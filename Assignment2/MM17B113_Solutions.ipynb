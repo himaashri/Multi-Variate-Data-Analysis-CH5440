{
 "cells": [
  {
   "cell_type": "markdown",
   "metadata": {},
   "source": [
    "# CH5440 - Assignment 2\n",
    "## -Himasree Viswanadhapalli (MM17B113)"
   ]
  },
  {
   "cell_type": "code",
   "execution_count": 1,
   "metadata": {},
   "outputs": [],
   "source": [
    "# import libraries\n",
    "\n",
    "import pandas as pd\n",
    "import numpy as np\n",
    "import matplotlib.pyplot as plt\n",
    "import seaborn as sns"
   ]
  },
  {
   "cell_type": "code",
   "execution_count": 2,
   "metadata": {},
   "outputs": [],
   "source": [
    "# mean shift\n",
    "\n",
    "def mean_shift(data):\n",
    "    return pd.DataFrame(data-np.mean(data))"
   ]
  },
  {
   "cell_type": "code",
   "execution_count": 3,
   "metadata": {},
   "outputs": [],
   "source": [
    "# get parameters for multi linear regression \n",
    "# Calculating beta parameters from this (X_T.X)Beta=(X_T.y)\n",
    "# inverse(X_T.X) = 1/S_uu and S_yu=(X_T.y)\n",
    "# B0=y_mean-(X_mean.B_)\n",
    "\n",
    "def multi_linear_reg(X,y):\n",
    "    X_T=X.T\n",
    "    S_uu=np.dot(X_T,X)\n",
    "    S_uu=pd.DataFrame(np.linalg.pinv(S_uu)) # inversing the matrix S_uu\n",
    "    S_yu=np.dot(X_T,y)\n",
    "    B_=np.dot(S_uu,S_yu)\n",
    "    \n",
    "    B0=y.mean()-np.dot(X.mean().T,B_)\n",
    "    \n",
    "    B_=pd.DataFrame(B_.T)\n",
    "    B_.columns=X.columns\n",
    "    \n",
    "\n",
    "    return B_,B0"
   ]
  },
  {
   "cell_type": "markdown",
   "metadata": {},
   "source": [
    "# OLS"
   ]
  },
  {
   "cell_type": "code",
   "execution_count": 4,
   "metadata": {},
   "outputs": [],
   "source": [
    "'''\n",
    "Defining Ordinary least squares \n",
    "y=ax+b\n",
    "from formulae, a= Syu/Suu and b=y_mean-a(x_mean)\n",
    "'''\n",
    "def getOLS(data,fea1, fea2):\n",
    "    #x,y\n",
    "    # calculating b\n",
    "\n",
    "    x_mean=np.mean(data[fea1])\n",
    "    y_mean=np.mean(data[fea2])\n",
    "\n",
    "    # calculating numerator and denominator for a\n",
    "\n",
    "    Syu= np.multiply(np.subtract(data[fea2],y_mean),np.subtract(data[fea1],x_mean))\n",
    "    Syu=np.sum(Syu)/len(data)\n",
    "    numerator=Syu\n",
    "\n",
    "    Suu= np.multiply(np.subtract(data[fea1],x_mean),np.subtract(data[fea1],x_mean))\n",
    "    Suu=np.sum(Suu)/len(data)\n",
    "    denominator=Suu\n",
    "    print('Syu:',Syu,'Suu:',Suu)\n",
    "    a_OLS=numerator/denominator\n",
    "\n",
    "    b_OLS=y_mean-a_OLS*x_mean\n",
    "\n",
    "    print('Slope Parameter of OLS:',a_OLS)\n",
    "    print('Offset Parameter of OLS:',b_OLS)\n",
    "#     print(Syu,Suu,x_mean,y_mean)\n",
    "    return a_OLS,b_OLS"
   ]
  },
  {
   "cell_type": "markdown",
   "metadata": {},
   "source": [
    "# Question 1\n",
    "\n",
    "The following gases carbon dioxide (CO2), methane (CH4), nitrous oxide (N2O) and Ozone (O3) in the atmosphere are implicated in increasing global temperatures, and are known as greenhouse gases. The concentration of these gases in the atmosphere and corresponding global average temperatures obtained from the EPA website (https://www.epa.gov/climate-indicators/weather-climate) between the years 1984 to 2014 is given in the Excel file ghg-concentrations_1984-2014.xlsx (units for different variables are also given in Excel sheet)."
   ]
  },
  {
   "cell_type": "code",
   "execution_count": 5,
   "metadata": {},
   "outputs": [
    {
     "name": "stdout",
     "output_type": "stream",
     "text": [
      "<class 'pandas.core.frame.DataFrame'>\n",
      "RangeIndex: 35 entries, 0 to 34\n",
      "Data columns (total 7 columns):\n",
      " #   Column                                                                                        Non-Null Count  Dtype  \n",
      "---  ------                                                                                        --------------  -----  \n",
      " 0   Source: EPA's Climate Change Indicators in the United States: www.epa.gov/climate-indicators  34 non-null     object \n",
      " 1   Unnamed: 1                                                                                    32 non-null     object \n",
      " 2   Unnamed: 2                                                                                    32 non-null     object \n",
      " 3   Unnamed: 3                                                                                    32 non-null     object \n",
      " 4   Unnamed: 4                                                                                    32 non-null     object \n",
      " 5   Unnamed: 5                                                                                    0 non-null      float64\n",
      " 6   Unnamed: 6                                                                                    32 non-null     object \n",
      "dtypes: float64(1), object(6)\n",
      "memory usage: 2.0+ KB\n"
     ]
    }
   ],
   "source": [
    "# import data\n",
    "\n",
    "data=pd.read_excel('ghg-concentrations_1984-2014.xlsx')\n",
    "data.info()"
   ]
  },
  {
   "cell_type": "code",
   "execution_count": 6,
   "metadata": {},
   "outputs": [
    {
     "data": {
      "text/html": [
       "<div>\n",
       "<style scoped>\n",
       "    .dataframe tbody tr th:only-of-type {\n",
       "        vertical-align: middle;\n",
       "    }\n",
       "\n",
       "    .dataframe tbody tr th {\n",
       "        vertical-align: top;\n",
       "    }\n",
       "\n",
       "    .dataframe thead th {\n",
       "        text-align: right;\n",
       "    }\n",
       "</style>\n",
       "<table border=\"1\" class=\"dataframe\">\n",
       "  <thead>\n",
       "    <tr style=\"text-align: right;\">\n",
       "      <th></th>\n",
       "      <th>Source: EPA's Climate Change Indicators in the United States: www.epa.gov/climate-indicators</th>\n",
       "      <th>Unnamed: 1</th>\n",
       "      <th>Unnamed: 2</th>\n",
       "      <th>Unnamed: 3</th>\n",
       "      <th>Unnamed: 4</th>\n",
       "      <th>Unnamed: 5</th>\n",
       "      <th>Unnamed: 6</th>\n",
       "    </tr>\n",
       "  </thead>\n",
       "  <tbody>\n",
       "    <tr>\n",
       "      <th>0</th>\n",
       "      <td>Web update: April 2016</td>\n",
       "      <td>NaN</td>\n",
       "      <td>NaN</td>\n",
       "      <td>NaN</td>\n",
       "      <td>NaN</td>\n",
       "      <td>NaN</td>\n",
       "      <td>NaN</td>\n",
       "    </tr>\n",
       "    <tr>\n",
       "      <th>1</th>\n",
       "      <td>Temp is deviation from 1901-2000 average</td>\n",
       "      <td>NaN</td>\n",
       "      <td>NaN</td>\n",
       "      <td>NaN</td>\n",
       "      <td>NaN</td>\n",
       "      <td>NaN</td>\n",
       "      <td>NaN</td>\n",
       "    </tr>\n",
       "    <tr>\n",
       "      <th>2</th>\n",
       "      <td>NaN</td>\n",
       "      <td>NaN</td>\n",
       "      <td>NaN</td>\n",
       "      <td>NaN</td>\n",
       "      <td>NaN</td>\n",
       "      <td>NaN</td>\n",
       "      <td>NaN</td>\n",
       "    </tr>\n",
       "    <tr>\n",
       "      <th>3</th>\n",
       "      <td>Year</td>\n",
       "      <td>CO2 (ppm)</td>\n",
       "      <td>CH4 (ppb)</td>\n",
       "      <td>N2O (ppb)O3 (</td>\n",
       "      <td>O3 (Dobson unit)</td>\n",
       "      <td>NaN</td>\n",
       "      <td>Temp (deg F)</td>\n",
       "    </tr>\n",
       "    <tr>\n",
       "      <th>4</th>\n",
       "      <td>1984</td>\n",
       "      <td>344.58</td>\n",
       "      <td>1655.843333</td>\n",
       "      <td>304.149167</td>\n",
       "      <td>282.07525</td>\n",
       "      <td>NaN</td>\n",
       "      <td>0.27</td>\n",
       "    </tr>\n",
       "  </tbody>\n",
       "</table>\n",
       "</div>"
      ],
      "text/plain": [
       "  Source: EPA's Climate Change Indicators in the United States: www.epa.gov/climate-indicators  \\\n",
       "0                             Web update: April 2016                                             \n",
       "1           Temp is deviation from 1901-2000 average                                             \n",
       "2                                                NaN                                             \n",
       "3                                              Year                                              \n",
       "4                                               1984                                             \n",
       "\n",
       "  Unnamed: 1   Unnamed: 2     Unnamed: 3        Unnamed: 4  Unnamed: 5  \\\n",
       "0        NaN          NaN            NaN               NaN         NaN   \n",
       "1        NaN          NaN            NaN               NaN         NaN   \n",
       "2        NaN          NaN            NaN               NaN         NaN   \n",
       "3  CO2 (ppm)    CH4 (ppb)  N2O (ppb)O3 (  O3 (Dobson unit)         NaN   \n",
       "4     344.58  1655.843333     304.149167         282.07525         NaN   \n",
       "\n",
       "     Unnamed: 6  \n",
       "0           NaN  \n",
       "1           NaN  \n",
       "2           NaN  \n",
       "3  Temp (deg F)  \n",
       "4          0.27  "
      ]
     },
     "execution_count": 6,
     "metadata": {},
     "output_type": "execute_result"
    }
   ],
   "source": [
    "data.head()"
   ]
  },
  {
   "cell_type": "code",
   "execution_count": 7,
   "metadata": {},
   "outputs": [
    {
     "data": {
      "text/html": [
       "<div>\n",
       "<style scoped>\n",
       "    .dataframe tbody tr th:only-of-type {\n",
       "        vertical-align: middle;\n",
       "    }\n",
       "\n",
       "    .dataframe tbody tr th {\n",
       "        vertical-align: top;\n",
       "    }\n",
       "\n",
       "    .dataframe thead th {\n",
       "        text-align: right;\n",
       "    }\n",
       "</style>\n",
       "<table border=\"1\" class=\"dataframe\">\n",
       "  <thead>\n",
       "    <tr style=\"text-align: right;\">\n",
       "      <th>3</th>\n",
       "      <th>Year</th>\n",
       "      <th>CO2 (ppm)</th>\n",
       "      <th>CH4 (ppb)</th>\n",
       "      <th>N2O (ppb)O3 (</th>\n",
       "      <th>O3 (Dobson unit)</th>\n",
       "      <th>NaN</th>\n",
       "      <th>Temp (deg F)</th>\n",
       "    </tr>\n",
       "  </thead>\n",
       "  <tbody>\n",
       "    <tr>\n",
       "      <th>0</th>\n",
       "      <td>1987.0</td>\n",
       "      <td>349.16</td>\n",
       "      <td>1693.105000</td>\n",
       "      <td>305.145455</td>\n",
       "      <td>279.769180</td>\n",
       "      <td>NaN</td>\n",
       "      <td>0.666</td>\n",
       "    </tr>\n",
       "    <tr>\n",
       "      <th>1</th>\n",
       "      <td>1988.0</td>\n",
       "      <td>351.56</td>\n",
       "      <td>1703.948333</td>\n",
       "      <td>306.035833</td>\n",
       "      <td>279.117045</td>\n",
       "      <td>NaN</td>\n",
       "      <td>0.666</td>\n",
       "    </tr>\n",
       "    <tr>\n",
       "      <th>2</th>\n",
       "      <td>1989.0</td>\n",
       "      <td>353.07</td>\n",
       "      <td>1717.980833</td>\n",
       "      <td>307.043333</td>\n",
       "      <td>283.993979</td>\n",
       "      <td>NaN</td>\n",
       "      <td>0.522</td>\n",
       "    </tr>\n",
       "    <tr>\n",
       "      <th>3</th>\n",
       "      <td>1990.0</td>\n",
       "      <td>354.35</td>\n",
       "      <td>1731.451667</td>\n",
       "      <td>308.169167</td>\n",
       "      <td>280.411319</td>\n",
       "      <td>NaN</td>\n",
       "      <td>0.774</td>\n",
       "    </tr>\n",
       "    <tr>\n",
       "      <th>4</th>\n",
       "      <td>1991.0</td>\n",
       "      <td>355.57</td>\n",
       "      <td>1740.968333</td>\n",
       "      <td>308.908333</td>\n",
       "      <td>282.554298</td>\n",
       "      <td>NaN</td>\n",
       "      <td>0.720</td>\n",
       "    </tr>\n",
       "  </tbody>\n",
       "</table>\n",
       "</div>"
      ],
      "text/plain": [
       "3   Year   CO2 (ppm)    CH4 (ppb)  N2O (ppb)O3 (  O3 (Dobson unit)  NaN  \\\n",
       "0  1987.0     349.16  1693.105000     305.145455        279.769180  NaN   \n",
       "1  1988.0     351.56  1703.948333     306.035833        279.117045  NaN   \n",
       "2  1989.0     353.07  1717.980833     307.043333        283.993979  NaN   \n",
       "3  1990.0     354.35  1731.451667     308.169167        280.411319  NaN   \n",
       "4  1991.0     355.57  1740.968333     308.908333        282.554298  NaN   \n",
       "\n",
       "3  Temp (deg F)  \n",
       "0         0.666  \n",
       "1         0.666  \n",
       "2         0.522  \n",
       "3         0.774  \n",
       "4         0.720  "
      ]
     },
     "execution_count": 7,
     "metadata": {},
     "output_type": "execute_result"
    }
   ],
   "source": [
    "# clean data\n",
    "\n",
    "data=data[3:]\n",
    "data.columns=data.iloc[0,:]\n",
    "data=data[4:]\n",
    "data.reset_index(drop=True, inplace=True)\n",
    "\n",
    "# change data type to float\n",
    "data=data.astype('float')\n",
    "data.head()"
   ]
  },
  {
   "cell_type": "code",
   "execution_count": 8,
   "metadata": {},
   "outputs": [
    {
     "data": {
      "text/html": [
       "<div>\n",
       "<style scoped>\n",
       "    .dataframe tbody tr th:only-of-type {\n",
       "        vertical-align: middle;\n",
       "    }\n",
       "\n",
       "    .dataframe tbody tr th {\n",
       "        vertical-align: top;\n",
       "    }\n",
       "\n",
       "    .dataframe thead th {\n",
       "        text-align: right;\n",
       "    }\n",
       "</style>\n",
       "<table border=\"1\" class=\"dataframe\">\n",
       "  <thead>\n",
       "    <tr style=\"text-align: right;\">\n",
       "      <th>3</th>\n",
       "      <th>Year</th>\n",
       "      <th>CO2 (ppm)</th>\n",
       "      <th>CH4 (ppb)</th>\n",
       "      <th>N2O (ppb)O3 (</th>\n",
       "      <th>O3 (Dobson unit)</th>\n",
       "      <th>Temp (deg F)</th>\n",
       "    </tr>\n",
       "  </thead>\n",
       "  <tbody>\n",
       "    <tr>\n",
       "      <th>0</th>\n",
       "      <td>1987.0</td>\n",
       "      <td>349.16</td>\n",
       "      <td>1693.105000</td>\n",
       "      <td>305.145455</td>\n",
       "      <td>279.769180</td>\n",
       "      <td>0.666</td>\n",
       "    </tr>\n",
       "    <tr>\n",
       "      <th>1</th>\n",
       "      <td>1988.0</td>\n",
       "      <td>351.56</td>\n",
       "      <td>1703.948333</td>\n",
       "      <td>306.035833</td>\n",
       "      <td>279.117045</td>\n",
       "      <td>0.666</td>\n",
       "    </tr>\n",
       "    <tr>\n",
       "      <th>2</th>\n",
       "      <td>1989.0</td>\n",
       "      <td>353.07</td>\n",
       "      <td>1717.980833</td>\n",
       "      <td>307.043333</td>\n",
       "      <td>283.993979</td>\n",
       "      <td>0.522</td>\n",
       "    </tr>\n",
       "    <tr>\n",
       "      <th>3</th>\n",
       "      <td>1990.0</td>\n",
       "      <td>354.35</td>\n",
       "      <td>1731.451667</td>\n",
       "      <td>308.169167</td>\n",
       "      <td>280.411319</td>\n",
       "      <td>0.774</td>\n",
       "    </tr>\n",
       "    <tr>\n",
       "      <th>4</th>\n",
       "      <td>1991.0</td>\n",
       "      <td>355.57</td>\n",
       "      <td>1740.968333</td>\n",
       "      <td>308.908333</td>\n",
       "      <td>282.554298</td>\n",
       "      <td>0.720</td>\n",
       "    </tr>\n",
       "  </tbody>\n",
       "</table>\n",
       "</div>"
      ],
      "text/plain": [
       "3   Year   CO2 (ppm)    CH4 (ppb)  N2O (ppb)O3 (  O3 (Dobson unit)  \\\n",
       "0  1987.0     349.16  1693.105000     305.145455        279.769180   \n",
       "1  1988.0     351.56  1703.948333     306.035833        279.117045   \n",
       "2  1989.0     353.07  1717.980833     307.043333        283.993979   \n",
       "3  1990.0     354.35  1731.451667     308.169167        280.411319   \n",
       "4  1991.0     355.57  1740.968333     308.908333        282.554298   \n",
       "\n",
       "3  Temp (deg F)  \n",
       "0         0.666  \n",
       "1         0.666  \n",
       "2         0.522  \n",
       "3         0.774  \n",
       "4         0.720  "
      ]
     },
     "execution_count": 8,
     "metadata": {},
     "output_type": "execute_result"
    }
   ],
   "source": [
    "# drop nan column\n",
    "\n",
    "data=data[[           'Year ',        'CO2 (ppm)',        'CH4 (ppb)',\n",
    "          'N2O (ppb)O3 (', 'O3 (Dobson unit)',           'Temp (deg F)']]\n",
    "data.head()"
   ]
  },
  {
   "cell_type": "markdown",
   "metadata": {},
   "source": [
    "### Data is cleaned"
   ]
  },
  {
   "cell_type": "code",
   "execution_count": 9,
   "metadata": {},
   "outputs": [
    {
     "name": "stdout",
     "output_type": "stream",
     "text": [
      "3                 CO2 (ppm)  CH4 (ppb)  N2O (ppb)O3 (  O3 (Dobson unit)  \\\n",
      "3                                                                         \n",
      "CO2 (ppm)          1.000000   0.946248       0.997231         -0.010862   \n",
      "CH4 (ppb)          0.946248   1.000000       0.964379         -0.088517   \n",
      "N2O (ppb)O3 (      0.997231   0.964379       1.000000         -0.036824   \n",
      "O3 (Dobson unit)  -0.010862  -0.088517      -0.036824          1.000000   \n",
      "Temp (deg F)       0.855976   0.807377       0.847564          0.083734   \n",
      "\n",
      "3                 Temp (deg F)  \n",
      "3                               \n",
      "CO2 (ppm)             0.855976  \n",
      "CH4 (ppb)             0.807377  \n",
      "N2O (ppb)O3 (         0.847564  \n",
      "O3 (Dobson unit)      0.083734  \n",
      "Temp (deg F)          1.000000  \n"
     ]
    },
    {
     "data": {
      "image/png": "[encoded data removed]",
      "text/plain": [
       "<Figure size 640x480 with 2 Axes>"
      ]
     },
     "metadata": {},
     "output_type": "display_data"
    }
   ],
   "source": [
    "# checking correlation between variables\n",
    "\n",
    "print(data.drop(['Year '],axis=1).corr())\n",
    "sns.heatmap(data.corr())\n",
    "plt.show()"
   ]
  },
  {
   "cell_type": "markdown",
   "metadata": {},
   "source": [
    "# part (a)\n",
    "Develop a multilinear regression model between global temperature (deviations) and\n",
    "concentrations of greenhouse gases using OLS. Is the global temperature positively\n",
    "correlated with increase in the concentration of these gases?"
   ]
  },
  {
   "cell_type": "code",
   "execution_count": 10,
   "metadata": {},
   "outputs": [
    {
     "data": {
      "text/html": [
       "<div>\n",
       "<style scoped>\n",
       "    .dataframe tbody tr th:only-of-type {\n",
       "        vertical-align: middle;\n",
       "    }\n",
       "\n",
       "    .dataframe tbody tr th {\n",
       "        vertical-align: top;\n",
       "    }\n",
       "\n",
       "    .dataframe thead th {\n",
       "        text-align: right;\n",
       "    }\n",
       "</style>\n",
       "<table border=\"1\" class=\"dataframe\">\n",
       "  <thead>\n",
       "    <tr style=\"text-align: right;\">\n",
       "      <th>3</th>\n",
       "      <th>Year</th>\n",
       "      <th>CO2 (ppm)</th>\n",
       "      <th>CH4 (ppb)</th>\n",
       "      <th>N2O (ppb)O3 (</th>\n",
       "      <th>O3 (Dobson unit)</th>\n",
       "      <th>Temp (deg F)</th>\n",
       "    </tr>\n",
       "  </thead>\n",
       "  <tbody>\n",
       "    <tr>\n",
       "      <th>0</th>\n",
       "      <td>-13.5</td>\n",
       "      <td>-22.768571</td>\n",
       "      <td>-83.156429</td>\n",
       "      <td>-10.274282</td>\n",
       "      <td>1.355069</td>\n",
       "      <td>0.666</td>\n",
       "    </tr>\n",
       "    <tr>\n",
       "      <th>1</th>\n",
       "      <td>-12.5</td>\n",
       "      <td>-20.368571</td>\n",
       "      <td>-72.313096</td>\n",
       "      <td>-9.383903</td>\n",
       "      <td>0.702934</td>\n",
       "      <td>0.666</td>\n",
       "    </tr>\n",
       "    <tr>\n",
       "      <th>2</th>\n",
       "      <td>-11.5</td>\n",
       "      <td>-18.858571</td>\n",
       "      <td>-58.280596</td>\n",
       "      <td>-8.376403</td>\n",
       "      <td>5.579868</td>\n",
       "      <td>0.522</td>\n",
       "    </tr>\n",
       "    <tr>\n",
       "      <th>3</th>\n",
       "      <td>-10.5</td>\n",
       "      <td>-17.578571</td>\n",
       "      <td>-44.809762</td>\n",
       "      <td>-7.250570</td>\n",
       "      <td>1.997208</td>\n",
       "      <td>0.774</td>\n",
       "    </tr>\n",
       "    <tr>\n",
       "      <th>4</th>\n",
       "      <td>-9.5</td>\n",
       "      <td>-16.358571</td>\n",
       "      <td>-35.293096</td>\n",
       "      <td>-6.511403</td>\n",
       "      <td>4.140187</td>\n",
       "      <td>0.720</td>\n",
       "    </tr>\n",
       "  </tbody>\n",
       "</table>\n",
       "</div>"
      ],
      "text/plain": [
       "3  Year   CO2 (ppm)  CH4 (ppb)  N2O (ppb)O3 (  O3 (Dobson unit)  Temp (deg F)\n",
       "0  -13.5 -22.768571 -83.156429     -10.274282          1.355069         0.666\n",
       "1  -12.5 -20.368571 -72.313096      -9.383903          0.702934         0.666\n",
       "2  -11.5 -18.858571 -58.280596      -8.376403          5.579868         0.522\n",
       "3  -10.5 -17.578571 -44.809762      -7.250570          1.997208         0.774\n",
       "4   -9.5 -16.358571 -35.293096      -6.511403          4.140187         0.720"
      ]
     },
     "execution_count": 10,
     "metadata": {},
     "output_type": "execute_result"
    }
   ],
   "source": [
    "# mean shift the data\n",
    "# assuming offset parameter is non zero\n",
    "\n",
    "data_ms=pd.concat([mean_shift(data.drop(['Temp (deg F)'],axis=1)),data[['Temp (deg F)']]],axis=1)\n",
    "data_ms.head()"
   ]
  },
  {
   "cell_type": "code",
   "execution_count": 11,
   "metadata": {},
   "outputs": [
    {
     "data": {
      "image/png": "[encoded data removed]",
      "text/plain": [
       "<Figure size 1500x1500 with 42 Axes>"
      ]
     },
     "metadata": {},
     "output_type": "display_data"
    }
   ],
   "source": [
    "# Data Visualization\n",
    "\n",
    "sns.pairplot(data_ms)\n",
    "plt.show()"
   ]
  },
  {
   "cell_type": "markdown",
   "metadata": {},
   "source": [
    "### Observations from data visualization\n",
    "\n",
    "The Year, CO2, CH4, N2O are highly correlated. There is no significaant linear relationship is observed between O3 and Temp. Temperature is linearly realted with the year, CO2, CH4, N2O."
   ]
  },
  {
   "cell_type": "code",
   "execution_count": 12,
   "metadata": {},
   "outputs": [],
   "source": [
    "X=data_ms.drop(['Temp (deg F)'],axis=1)\n",
    "y=data_ms[['Temp (deg F)']]"
   ]
  },
  {
   "cell_type": "code",
   "execution_count": 13,
   "metadata": {},
   "outputs": [
    {
     "name": "stdout",
     "output_type": "stream",
     "text": [
      "*Considering all the independent features*\n",
      "3\n",
      "Temp (deg F)    0.909643\n",
      "dtype: float64\n"
     ]
    },
    {
     "data": {
      "text/html": [
       "<div>\n",
       "<style scoped>\n",
       "    .dataframe tbody tr th:only-of-type {\n",
       "        vertical-align: middle;\n",
       "    }\n",
       "\n",
       "    .dataframe tbody tr th {\n",
       "        vertical-align: top;\n",
       "    }\n",
       "\n",
       "    .dataframe thead th {\n",
       "        text-align: right;\n",
       "    }\n",
       "</style>\n",
       "<table border=\"1\" class=\"dataframe\">\n",
       "  <thead>\n",
       "    <tr style=\"text-align: right;\">\n",
       "      <th>3</th>\n",
       "      <th>Year</th>\n",
       "      <th>CO2 (ppm)</th>\n",
       "      <th>CH4 (ppb)</th>\n",
       "      <th>N2O (ppb)O3 (</th>\n",
       "      <th>O3 (Dobson unit)</th>\n",
       "    </tr>\n",
       "  </thead>\n",
       "  <tbody>\n",
       "    <tr>\n",
       "      <th>0</th>\n",
       "      <td>0.081275</td>\n",
       "      <td>0.038324</td>\n",
       "      <td>0.003039</td>\n",
       "      <td>-0.184811</td>\n",
       "      <td>0.012921</td>\n",
       "    </tr>\n",
       "  </tbody>\n",
       "</table>\n",
       "</div>"
      ],
      "text/plain": [
       "3     Year   CO2 (ppm)  CH4 (ppb)  N2O (ppb)O3 (  O3 (Dobson unit)\n",
       "0  0.081275   0.038324   0.003039      -0.184811          0.012921"
      ]
     },
     "execution_count": 13,
     "metadata": {},
     "output_type": "execute_result"
    }
   ],
   "source": [
    "# multi linear regression model: y=B0+B_.X\n",
    "# Here B_params is transpose of B_ matrix\n",
    "# B_params = [B_1,B_2, B_3, B_4, B_5] where Temp=B0+B_1*Year+B_2*CO2+B_3*CH4+B_4*N2O+B_5*O3\n",
    "\n",
    "print('*Considering all the independent features*')\n",
    "B_params,B0=multi_linear_reg(X,y)\n",
    "print(B0)\n",
    "B_params"
   ]
  },
  {
   "cell_type": "code",
   "execution_count": 14,
   "metadata": {
    "scrolled": true
   },
   "outputs": [
    {
     "name": "stdout",
     "output_type": "stream",
     "text": [
      "*Considering only concentration of gases*\n",
      "3\n",
      "Temp (deg F)    0.909643\n",
      "dtype: float64\n"
     ]
    },
    {
     "data": {
      "text/html": [
       "<div>\n",
       "<style scoped>\n",
       "    .dataframe tbody tr th:only-of-type {\n",
       "        vertical-align: middle;\n",
       "    }\n",
       "\n",
       "    .dataframe tbody tr th {\n",
       "        vertical-align: top;\n",
       "    }\n",
       "\n",
       "    .dataframe thead th {\n",
       "        text-align: right;\n",
       "    }\n",
       "</style>\n",
       "<table border=\"1\" class=\"dataframe\">\n",
       "  <thead>\n",
       "    <tr style=\"text-align: right;\">\n",
       "      <th>3</th>\n",
       "      <th>CO2 (ppm)</th>\n",
       "      <th>CH4 (ppb)</th>\n",
       "      <th>N2O (ppb)O3 (</th>\n",
       "      <th>O3 (Dobson unit)</th>\n",
       "    </tr>\n",
       "  </thead>\n",
       "  <tbody>\n",
       "    <tr>\n",
       "      <th>0</th>\n",
       "      <td>0.061097</td>\n",
       "      <td>0.004851</td>\n",
       "      <td>-0.142275</td>\n",
       "      <td>0.006065</td>\n",
       "    </tr>\n",
       "  </tbody>\n",
       "</table>\n",
       "</div>"
      ],
      "text/plain": [
       "3  CO2 (ppm)  CH4 (ppb)  N2O (ppb)O3 (  O3 (Dobson unit)\n",
       "0   0.061097   0.004851      -0.142275          0.006065"
      ]
     },
     "execution_count": 14,
     "metadata": {},
     "output_type": "execute_result"
    }
   ],
   "source": [
    "print('*Considering only concentration of gases*')\n",
    "B_params,B0=multi_linear_reg(X.drop(['Year '],axis=1),y)\n",
    "print(B0)\n",
    "B_params"
   ]
  },
  {
   "cell_type": "markdown",
   "metadata": {},
   "source": [
    "## Part (a) - Solution\n",
    "\n",
    "The global temperature positively correlated with increase in the concentration of CO2,CH4 and,O3 gases and negatively correlated with increase in the concentration of O3."
   ]
  },
  {
   "cell_type": "markdown",
   "metadata": {},
   "source": [
    "## Part (b)\n",
    "\n",
    "Estimate the error variance in temperature measurements and confidence intervals\n",
    "(CIs) for all regression coefficients. Based on residual analysis, remove samples\n",
    "suspected of being outliers (one at a time) until there are no outliers."
   ]
  },
  {
   "cell_type": "code",
   "execution_count": 15,
   "metadata": {},
   "outputs": [
    {
     "name": "stdout",
     "output_type": "stream",
     "text": [
      "Error variance in temperature measurements is 0.018009367940148225\n"
     ]
    }
   ],
   "source": [
    "# sigma^2=((y-y_hat)^2)/N-p-1\n",
    "\n",
    "X_g=X.drop(['Year '],axis=1)\n",
    "estimated_y=np.dot(X_g,B_params.T)+B0[0]\n",
    "error=np.subtract(y,estimated_y)\n",
    "sq_error=sum(error.values**2)\n",
    "error_variance=sq_error/(len(y)-4-1)\n",
    "print('Error variance in temperature measurements is',error_variance[0])"
   ]
  },
  {
   "cell_type": "markdown",
   "metadata": {},
   "source": [
    "### Confidence intervals for regression coefficients\n",
    "\n",
    "CI=  [B-t.*s.e(B),B+t.*s.e(B)] \n",
    "\n",
    "where s.e(B_j)=sigma.*root(C_jj), C=inverse(X_T.*X)\n",
    "\n",
    "alpha=0.05 and t value at (n-p-1,alpha/2) i.e, t value at 0.025 and 23 df\n",
    "\n",
    "T-table: https://www.sjsu.edu/faculty/gerstman/StatPrimer/t-table.pdf \n",
    "\n",
    "from t table, t value with 23 df and 95% CI is 2.069"
   ]
  },
  {
   "cell_type": "code",
   "execution_count": 16,
   "metadata": {},
   "outputs": [
    {
     "name": "stdout",
     "output_type": "stream",
     "text": [
      "The confidence intervals of regression coefficient of CO2 (ppm) is: [-0.08924042354184919, 0.21143373464652654]\n",
      "The confidence intervals of regression coefficient of CH4 (ppb) is: [-0.04504964282753206, 0.05475126797992809]\n",
      "The confidence intervals of regression coefficient of N2O (ppb)O3 ( is: [-0.40115091704658107, 0.11660034956863613]\n",
      "The confidence intervals of regression coefficient of O3 (Dobson unit) is: [-0.07536079353081503, 0.08749143949119355]\n"
     ]
    },
    {
     "name": "stderr",
     "output_type": "stream",
     "text": [
      "C:\\ProgramData\\Anaconda3\\lib\\site-packages\\ipykernel_launcher.py:8: RuntimeWarning: invalid value encountered in sqrt\n",
      "  \n"
     ]
    }
   ],
   "source": [
    "from math import sqrt\n",
    "\n",
    "t=2.069\n",
    "sigma=np.sqrt(error_variance)\n",
    "\n",
    "X_g=X.drop(['Year '],axis=1)\n",
    "C=np.linalg.pinv(np.dot(X_g.T,X_g))\n",
    "C=np.sqrt(C)\n",
    "CI=[] # confidence intervals\n",
    "\n",
    "for i in range(len(X_g.columns)):\n",
    "    SE=sigma*sqrt(C[i][i])\n",
    "    CI.append([B_params.iloc[0][i]-t*SE[0],B_params.iloc[0][i]+t*SE[0]])\n",
    "    print('The confidence intervals of regression coefficient of',X_g.columns[i],'is:',CI[-1])\n",
    "    "
   ]
  },
  {
   "cell_type": "markdown",
   "metadata": {},
   "source": [
    "### Zero is present in all the confidence intervals of regression coefficients, which means they are insignificant. As the independent variables observed to be depended, Let's see if the confidence intervals change when some of the independent variables are dropped."
   ]
  },
  {
   "cell_type": "code",
   "execution_count": 17,
   "metadata": {},
   "outputs": [
    {
     "data": {
      "image/png": "[encoded data removed]",
      "text/plain": [
       "<Figure size 640x480 with 1 Axes>"
      ]
     },
     "metadata": {},
     "output_type": "display_data"
    }
   ],
   "source": [
    "# Outlier detection by using IQR (Inter Quartile Range) i.e, [Q1 - 1.5 * IQR, Q3 + 1.5 * IQR]\n",
    "\n",
    "sns.boxplot(error)\n",
    "plt.show()"
   ]
  },
  {
   "cell_type": "markdown",
   "metadata": {},
   "source": [
    "No Outliers are found"
   ]
  },
  {
   "cell_type": "code",
   "execution_count": 18,
   "metadata": {},
   "outputs": [
    {
     "name": "stdout",
     "output_type": "stream",
     "text": [
      "Squared error is 0.41421546262340914\n"
     ]
    }
   ],
   "source": [
    "print('Squared error is',sq_error[0])"
   ]
  },
  {
   "cell_type": "markdown",
   "metadata": {},
   "source": [
    "# part (b) - solution"
   ]
  },
  {
   "cell_type": "markdown",
   "metadata": {},
   "source": [
    "Error variance in temperature measurements is 0.018009367940148225\n",
    "\n",
    "#### Confidence Intervals\n",
    "The confidence intervals of regression coefficient of CO2 (ppm) is: [-0.08924042354184919, 0.21143373464652654]\n",
    "\n",
    "The confidence intervals of regression coefficient of CH4 (ppb) is: [-0.04504964282753206, 0.05475126797992809]\n",
    "\n",
    "The confidence intervals of regression coefficient of N2O (ppb)O3 ( is: [-0.40115091704658107, 0.11660034956863613]\n",
    "\n",
    "The confidence intervals of regression coefficient of O3 (Dobson unit) is: [-0.07536079353081503, 0.08749143949119355]\n",
    "\n",
    "#### Outliers\n",
    "\n",
    "No Outliers are found"
   ]
  },
  {
   "cell_type": "markdown",
   "metadata": {},
   "source": [
    "## Part (c)\n",
    "Improve the regression model obtained in step (b) by dropping unimportant\n",
    "(insignificant) variables (one at a time)"
   ]
  },
  {
   "cell_type": "code",
   "execution_count": 19,
   "metadata": {},
   "outputs": [
    {
     "data": {
      "text/html": [
       "<div>\n",
       "<style scoped>\n",
       "    .dataframe tbody tr th:only-of-type {\n",
       "        vertical-align: middle;\n",
       "    }\n",
       "\n",
       "    .dataframe tbody tr th {\n",
       "        vertical-align: top;\n",
       "    }\n",
       "\n",
       "    .dataframe thead th {\n",
       "        text-align: right;\n",
       "    }\n",
       "</style>\n",
       "<table border=\"1\" class=\"dataframe\">\n",
       "  <thead>\n",
       "    <tr style=\"text-align: right;\">\n",
       "      <th>3</th>\n",
       "      <th>CO2 (ppm)</th>\n",
       "      <th>CH4 (ppb)</th>\n",
       "      <th>N2O (ppb)O3 (</th>\n",
       "      <th>O3 (Dobson unit)</th>\n",
       "      <th>Temp (deg F)</th>\n",
       "    </tr>\n",
       "    <tr>\n",
       "      <th>3</th>\n",
       "      <th></th>\n",
       "      <th></th>\n",
       "      <th></th>\n",
       "      <th></th>\n",
       "      <th></th>\n",
       "    </tr>\n",
       "  </thead>\n",
       "  <tbody>\n",
       "    <tr>\n",
       "      <th>CO2 (ppm)</th>\n",
       "      <td>1.000000</td>\n",
       "      <td>0.946248</td>\n",
       "      <td>0.997231</td>\n",
       "      <td>-0.010862</td>\n",
       "      <td>0.855976</td>\n",
       "    </tr>\n",
       "    <tr>\n",
       "      <th>CH4 (ppb)</th>\n",
       "      <td>0.946248</td>\n",
       "      <td>1.000000</td>\n",
       "      <td>0.964379</td>\n",
       "      <td>-0.088517</td>\n",
       "      <td>0.807377</td>\n",
       "    </tr>\n",
       "    <tr>\n",
       "      <th>N2O (ppb)O3 (</th>\n",
       "      <td>0.997231</td>\n",
       "      <td>0.964379</td>\n",
       "      <td>1.000000</td>\n",
       "      <td>-0.036824</td>\n",
       "      <td>0.847564</td>\n",
       "    </tr>\n",
       "    <tr>\n",
       "      <th>O3 (Dobson unit)</th>\n",
       "      <td>-0.010862</td>\n",
       "      <td>-0.088517</td>\n",
       "      <td>-0.036824</td>\n",
       "      <td>1.000000</td>\n",
       "      <td>0.083734</td>\n",
       "    </tr>\n",
       "    <tr>\n",
       "      <th>Temp (deg F)</th>\n",
       "      <td>0.855976</td>\n",
       "      <td>0.807377</td>\n",
       "      <td>0.847564</td>\n",
       "      <td>0.083734</td>\n",
       "      <td>1.000000</td>\n",
       "    </tr>\n",
       "  </tbody>\n",
       "</table>\n",
       "</div>"
      ],
      "text/plain": [
       "3                 CO2 (ppm)  CH4 (ppb)  N2O (ppb)O3 (  O3 (Dobson unit)  \\\n",
       "3                                                                         \n",
       "CO2 (ppm)          1.000000   0.946248       0.997231         -0.010862   \n",
       "CH4 (ppb)          0.946248   1.000000       0.964379         -0.088517   \n",
       "N2O (ppb)O3 (      0.997231   0.964379       1.000000         -0.036824   \n",
       "O3 (Dobson unit)  -0.010862  -0.088517      -0.036824          1.000000   \n",
       "Temp (deg F)       0.855976   0.807377       0.847564          0.083734   \n",
       "\n",
       "3                 Temp (deg F)  \n",
       "3                               \n",
       "CO2 (ppm)             0.855976  \n",
       "CH4 (ppb)             0.807377  \n",
       "N2O (ppb)O3 (         0.847564  \n",
       "O3 (Dobson unit)      0.083734  \n",
       "Temp (deg F)          1.000000  "
      ]
     },
     "execution_count": 19,
     "metadata": {},
     "output_type": "execute_result"
    }
   ],
   "source": [
    "data.drop(['Year '],axis=1).corr()"
   ]
  },
  {
   "cell_type": "markdown",
   "metadata": {},
   "source": [
    "From correlation, the order of importance of features is O3, CH4, N2O,CO2\n",
    "\n",
    "On another note, as CO2 and N2O are highly correlated and N2O is less correlated to Temperature compared to CO2, first we can drop N2O. secondly, CO2 and CH4 are also highly correlated and CO2 is more correlated to Temperature, secondly CH4 can be droped. Thirdly O3, followed by CO2 would be the second considered order. i.e, N2O, CH4, O3, CO2"
   ]
  },
  {
   "cell_type": "code",
   "execution_count": 20,
   "metadata": {},
   "outputs": [
    {
     "name": "stdout",
     "output_type": "stream",
     "text": [
      "Squared Error with features Index(['CO2', 'CH4', 'N2O', 'O3'], dtype='object') is 0.41421546262340914\n",
      "Squared Error with features Index(['CO2', 'CH4', 'N2O'], dtype='object') is 0.4191893034146299\n",
      "Squared Error with features Index(['CO2', 'N2O'], dtype='object') is 0.44489450495014565\n",
      "Squared Error with features Index(['CO2'], dtype='object') is 0.45615533152560056\n"
     ]
    }
   ],
   "source": [
    "# first order\n",
    "\n",
    "X_g.columns=['CO2','CH4','N2O','O3']\n",
    "imp_fea=['O3','CH4','N2O','CO2']\n",
    "X_new=X_g.copy()\n",
    "B_params_new=B_params.copy()\n",
    "print('Squared Error with features',X_new.columns,'is',sq_error[0])\n",
    "for fea in imp_fea:\n",
    "    if fea !='CO2':\n",
    "        X_new=X_new.drop([fea],axis=1)\n",
    "        B_params_new,B0_new=multi_linear_reg(X_new,y)\n",
    "        estimated_y_new=np.dot(X_new,B_params_new.T)+B0_new[0]\n",
    "        error_new=np.subtract(y,estimated_y_new)\n",
    "        sq_error_new=sum(error_new.values**2)\n",
    "        print('Squared Error with features',X_new.columns,'is',sq_error_new[0])"
   ]
  },
  {
   "cell_type": "code",
   "execution_count": 21,
   "metadata": {},
   "outputs": [
    {
     "name": "stdout",
     "output_type": "stream",
     "text": [
      "Squared Error with features Index(['CO2', 'CH4', 'N2O', 'O3'], dtype='object') is 0.41421546262340914\n",
      "Squared Error with features Index(['CO2', 'CH4', 'O3'], dtype='object') is 0.44100302085122467\n",
      "Squared Error with features Index(['CO2', 'O3'], dtype='object') is 0.4413842859911566\n",
      "Squared Error with features Index(['CO2'], dtype='object') is 0.45615533152560056\n"
     ]
    }
   ],
   "source": [
    "# second order\n",
    "\n",
    "X_g.columns=['CO2','CH4','N2O','O3']\n",
    "imp_fea=['N2O','CH4','O3','CO2']\n",
    "X_new=X_g.copy()\n",
    "B_params_new=B_params.copy()\n",
    "print('Squared Error with features',X_new.columns,'is',sq_error[0])\n",
    "for fea in imp_fea:\n",
    "    if fea !='CO2':\n",
    "        X_new=X_new.drop([fea],axis=1)\n",
    "        B_params_new,B0_new=multi_linear_reg(X_new,y)\n",
    "        estimated_y_new=np.dot(X_new,B_params_new.T)+B0_new[0]\n",
    "        error_new=np.subtract(y,estimated_y_new)\n",
    "        sq_error_new=sum(error_new.values**2)\n",
    "        print('Squared Error with features',X_new.columns,'is',sq_error_new[0])"
   ]
  },
  {
   "cell_type": "markdown",
   "metadata": {},
   "source": [
    "## Part (c) - Solution \n",
    "\n",
    "The models with [CO2,CH4,N20,O3] and ['CO2', 'CH4', 'N2O'] are performing nearly same as the squared error values are very near. As the second model has low features, considering the model complexity, model with ['CO2', 'CH4', 'N2O']  as features is considered as improved regreddion model. If we further consider squared error of 0.456 is not indifferent from 0.414, we can consider only CO2 as independent feature and predict the temparatures. The error values are close and the consideration of model depends on the error tolerance. For this case, I am considering model with CO2, CH4, NO2 as optimal model."
   ]
  },
  {
   "cell_type": "markdown",
   "metadata": {},
   "source": [
    "## Part (d)\n",
    "The effect of different gases on the global temperature is expressed in terms of CO2\n",
    "equivalents or global warming potential (GWP). Is it possible to make any inference\n",
    "regarding GWP of the gases from the regression coefficients? Compare the GWP\n",
    "obtained from regression coefficients to the values obtained over a 20 year time horizon:\n",
    "CO2 (1), CH4 (86), N2O (289)"
   ]
  },
  {
   "cell_type": "code",
   "execution_count": 22,
   "metadata": {},
   "outputs": [
    {
     "name": "stdout",
     "output_type": "stream",
     "text": [
      "GWP obtained from OLS regression coefficents: CO2( 1.0 ), CH4( 79.39833379707679 ), N2O( 2328.674075650196 )\n"
     ]
    }
   ],
   "source": [
    "# Reference values: CO2 (1), CH4 (86), N2O (289)\n",
    "# As the the GWP value is in terms of CO2, \n",
    "# lets divide the regression coefficients of CH4 and N2O with regression coefficient of CO2.\n",
    "\n",
    "# OLS\n",
    "\n",
    "CO2_OLS=0.061097\n",
    "CH4_OLS=0.004851\n",
    "N2O_OLS=0.142275\n",
    "\n",
    "CO2_OLS_GWP=(CO2_OLS/CO2_OLS)\n",
    "CH4_OLS_GWP=(CH4_OLS/CO2_OLS)*1000 #convert ppb to ppm\n",
    "N2O_OLS_GWP=(N2O_OLS/CO2_OLS)*1000 #convert ppb to ppm\n",
    "\n",
    "print('GWP obtained from OLS regression coefficents: CO2(',CO2_OLS_GWP,'),','CH4(',CH4_OLS_GWP,'),','N2O(',N2O_OLS_GWP,')' )\n",
    "# # TLS\n",
    "\n",
    "# CO2_TLS=\n",
    "# CH4_TLS=\n",
    "# N2O_TLS=\n",
    "\n",
    "# CO2_TLS_GWP=CO2_TLS/CO2_TLS\n",
    "# CH4_TLS_GWP=CH4_TLS/CO2_TLS\n",
    "# N2O_TLS_GWP=N2O_TLS/CO2_TLS\n",
    "\n",
    "# print('GWP obtained from TLS regression coefficents: CO2(',CO2_TLS_GWP,')','CH4(',CH4_TLS_GWP,')','N2O(',N2O_TLS,')' )"
   ]
  },
  {
   "cell_type": "markdown",
   "metadata": {},
   "source": [
    "# Part (d) - Solution\n",
    "\n",
    "GWP values of CO2 and CH4 are close to obtained GWP values. Where GWP value of N20 is almost 10 times of the obtained N2O GWP. From the results, the affect of N2O on global temperature has increased rapidly. "
   ]
  },
  {
   "cell_type": "markdown",
   "metadata": {},
   "source": [
    "# Question 2\n",
    "\n",
    "Consider the problem of developing a correlation between saturated pressure (Psat\n",
    ") and\n",
    "saturated temperature T (boiling point). For pure components, the Antoine equation\n",
    "given below generally fits the data well\n",
    "\n",
    "𝑙n(𝑃_sat) = 𝐴 − 𝐵/(𝑇 + 𝐶)\n",
    "\n",
    "For n-hexane, the values of the constants are A = 14.0568, B = 2825.42, and C = 230.44\n",
    "where Psat is given in kPa and T in deg C. Using this correlation a data set consisting of\n",
    "100 samples have been generated in the temperature range 10 - 70 deg C . Gaussian\n",
    "measurements errors to both the true temperature and saturated pressures with standard deviations of 0.18 deg C and 2 kPa , respectively, have been added to generate the\n",
    "measurements (available in vpdata.mat)"
   ]
  },
  {
   "cell_type": "code",
   "execution_count": 23,
   "metadata": {},
   "outputs": [],
   "source": [
    "import scipy.io\n",
    "data_mat = scipy.io.loadmat('vpdata.mat')"
   ]
  },
  {
   "cell_type": "code",
   "execution_count": 24,
   "metadata": {},
   "outputs": [
    {
     "data": {
      "text/html": [
       "<div>\n",
       "<style scoped>\n",
       "    .dataframe tbody tr th:only-of-type {\n",
       "        vertical-align: middle;\n",
       "    }\n",
       "\n",
       "    .dataframe tbody tr th {\n",
       "        vertical-align: top;\n",
       "    }\n",
       "\n",
       "    .dataframe thead th {\n",
       "        text-align: right;\n",
       "    }\n",
       "</style>\n",
       "<table border=\"1\" class=\"dataframe\">\n",
       "  <thead>\n",
       "    <tr style=\"text-align: right;\">\n",
       "      <th></th>\n",
       "      <th>temp</th>\n",
       "      <th>psat</th>\n",
       "    </tr>\n",
       "  </thead>\n",
       "  <tbody>\n",
       "    <tr>\n",
       "      <th>0</th>\n",
       "      <td>37.114450</td>\n",
       "      <td>29.315594</td>\n",
       "    </tr>\n",
       "    <tr>\n",
       "      <th>1</th>\n",
       "      <td>32.986367</td>\n",
       "      <td>28.547205</td>\n",
       "    </tr>\n",
       "    <tr>\n",
       "      <th>2</th>\n",
       "      <td>57.152844</td>\n",
       "      <td>66.982238</td>\n",
       "    </tr>\n",
       "    <tr>\n",
       "      <th>3</th>\n",
       "      <td>31.646108</td>\n",
       "      <td>24.656088</td>\n",
       "    </tr>\n",
       "    <tr>\n",
       "      <th>4</th>\n",
       "      <td>41.677937</td>\n",
       "      <td>39.074630</td>\n",
       "    </tr>\n",
       "  </tbody>\n",
       "</table>\n",
       "</div>"
      ],
      "text/plain": [
       "        temp       psat\n",
       "0  37.114450  29.315594\n",
       "1  32.986367  28.547205\n",
       "2  57.152844  66.982238\n",
       "3  31.646108  24.656088\n",
       "4  41.677937  39.074630"
      ]
     },
     "execution_count": 24,
     "metadata": {},
     "output_type": "execute_result"
    }
   ],
   "source": [
    "# Data prepocessing, in .mat file, the data is in a dictionary. \n",
    "# Therefore, converting the data in dictionary format to dataframe\n",
    "\n",
    "temp=[]\n",
    "psat=[]\n",
    "\n",
    "for i in range(len(data_mat['temp'])):\n",
    "    temp.append(data_mat['temp'][i][0])\n",
    "    psat.append(data_mat['psat'][i][0])\n",
    "data=pd.concat([pd.DataFrame(temp),pd.DataFrame(psat)],axis=1)\n",
    "data.columns=['temp','psat']\n",
    "data.head()"
   ]
  },
  {
   "cell_type": "markdown",
   "metadata": {},
   "source": [
    "## Part (a)\n",
    "The Classius-Clapeyron equation is a theoretically derived model between Psat and T\n",
    "and is given by\n",
    "\n",
    "𝑙n(𝑃_sat) = 𝐴′ − 𝐵′/T\n",
    "\n",
    "Assuming that temperature measurements are noise-free and pressure measurements are\n",
    "noisy, use linear regression to obtain estimates of parameters A’ and B’."
   ]
  },
  {
   "cell_type": "code",
   "execution_count": 25,
   "metadata": {},
   "outputs": [],
   "source": [
    "# Assume X=1/T and y=ln(p), the the model equation becomes y=a*X+b\n",
    "\n",
    "X=np.divide(1,data.temp)\n",
    "y=np.log(data.psat)  # Assuming error in psat are normal\n",
    "data_new=pd.concat([pd.DataFrame(X),pd.DataFrame(y)],axis=1)\n",
    "data_new.columns=['X','y']"
   ]
  },
  {
   "cell_type": "code",
   "execution_count": 26,
   "metadata": {},
   "outputs": [],
   "source": [
    "# mean shift the data\n",
    "\n",
    "# data_new=mean_shift(data_new)\n",
    "# data_new"
   ]
  },
  {
   "cell_type": "code",
   "execution_count": 27,
   "metadata": {},
   "outputs": [
    {
     "name": "stdout",
     "output_type": "stream",
     "text": [
      "Syu: -0.008916949173671578 Suu: 0.00023530071083357592\n",
      "Slope Parameter of OLS: -37.895972103451825\n",
      "Offset Parameter of OLS: 4.760732187067934\n"
     ]
    }
   ],
   "source": [
    "# fit OLS as X is assumed to be noise free\n",
    "\n",
    "a_OLS,b_OLS=getOLS(data_new,'X','y')"
   ]
  },
  {
   "cell_type": "code",
   "execution_count": 28,
   "metadata": {},
   "outputs": [
    {
     "name": "stdout",
     "output_type": "stream",
     "text": [
      "Parameter estimate of A is 4.760732187067934 and of B is 37.895972103451825\n"
     ]
    }
   ],
   "source": [
    "A=b_OLS\n",
    "B=-a_OLS\n",
    "print('Parameter estimate of A is',A,'and of B is',B)"
   ]
  },
  {
   "cell_type": "markdown",
   "metadata": {},
   "source": [
    "# part (a) - solution\n",
    "\n",
    "Parameter estimate of A = 4.761\n",
    "\n",
    "Parameter estimate of B = 37.896"
   ]
  },
  {
   "cell_type": "markdown",
   "metadata": {},
   "source": [
    "## Part (b)\n",
    "\n",
    "Assuming that temperature measurements are noise-free and pressure measurements\n",
    "are noisy, use nonlinear regression to obtain estimates of parameters A, B and C"
   ]
  },
  {
   "cell_type": "code",
   "execution_count": 29,
   "metadata": {},
   "outputs": [
    {
     "data": {
      "text/html": [
       "<div>\n",
       "<style scoped>\n",
       "    .dataframe tbody tr th:only-of-type {\n",
       "        vertical-align: middle;\n",
       "    }\n",
       "\n",
       "    .dataframe tbody tr th {\n",
       "        vertical-align: top;\n",
       "    }\n",
       "\n",
       "    .dataframe thead th {\n",
       "        text-align: right;\n",
       "    }\n",
       "</style>\n",
       "<table border=\"1\" class=\"dataframe\">\n",
       "  <thead>\n",
       "    <tr style=\"text-align: right;\">\n",
       "      <th></th>\n",
       "      <th>X</th>\n",
       "      <th>y</th>\n",
       "    </tr>\n",
       "  </thead>\n",
       "  <tbody>\n",
       "    <tr>\n",
       "      <th>0</th>\n",
       "      <td>37.114450</td>\n",
       "      <td>3.378120</td>\n",
       "    </tr>\n",
       "    <tr>\n",
       "      <th>1</th>\n",
       "      <td>32.986367</td>\n",
       "      <td>3.351559</td>\n",
       "    </tr>\n",
       "    <tr>\n",
       "      <th>2</th>\n",
       "      <td>57.152844</td>\n",
       "      <td>4.204427</td>\n",
       "    </tr>\n",
       "    <tr>\n",
       "      <th>3</th>\n",
       "      <td>31.646108</td>\n",
       "      <td>3.205024</td>\n",
       "    </tr>\n",
       "    <tr>\n",
       "      <th>4</th>\n",
       "      <td>41.677937</td>\n",
       "      <td>3.665473</td>\n",
       "    </tr>\n",
       "  </tbody>\n",
       "</table>\n",
       "</div>"
      ],
      "text/plain": [
       "           X         y\n",
       "0  37.114450  3.378120\n",
       "1  32.986367  3.351559\n",
       "2  57.152844  4.204427\n",
       "3  31.646108  3.205024\n",
       "4  41.677937  3.665473"
      ]
     },
     "execution_count": 29,
     "metadata": {},
     "output_type": "execute_result"
    }
   ],
   "source": [
    "# Assume X=1/T and y=ln(p), the the model equation becomes y=a*X+b\n",
    "\n",
    "X=data.temp\n",
    "y=np.log(data.psat)  # Assuming error in psat are normal\n",
    "data_new2=pd.concat([pd.DataFrame(X),pd.DataFrame(y)],axis=1)\n",
    "data_new2.columns=['X','y']\n",
    "data_new2.head()"
   ]
  },
  {
   "cell_type": "code",
   "execution_count": 30,
   "metadata": {},
   "outputs": [],
   "source": [
    "# mean shift\n",
    "\n",
    "# data_new2=mean_shift(data_new2)\n",
    "# data_new2.head()"
   ]
  },
  {
   "cell_type": "code",
   "execution_count": 31,
   "metadata": {},
   "outputs": [],
   "source": [
    "X=data_new2.X\n",
    "y=data_new2.y"
   ]
  },
  {
   "cell_type": "code",
   "execution_count": 32,
   "metadata": {},
   "outputs": [],
   "source": [
    "def objective(X,A,B,C):\n",
    "    return A-(B/(X+C))"
   ]
  },
  {
   "cell_type": "code",
   "execution_count": 33,
   "metadata": {},
   "outputs": [
    {
     "data": {
      "image/png": "[encoded data removed]",
      "text/plain": [
       "<Figure size 640x480 with 1 Axes>"
      ]
     },
     "metadata": {},
     "output_type": "display_data"
    },
    {
     "name": "stdout",
     "output_type": "stream",
     "text": [
      "Beta: [  13.08128121 2281.88178669  200.7819102 ]\n",
      "Beta Std Error: [  1.69718814 820.44997012  43.29743098]\n",
      "Beta Covariance: [[4.79604228e+02 2.31718998e+05 1.22079985e+04]\n",
      " [2.31718998e+05 1.12079771e+08 5.91144144e+06]\n",
      " [1.22079985e+04 5.91144144e+06 3.12138461e+05]]\n",
      "Residual Variance: 0.006005884446867539\n",
      "Inverse Condition #: 8.970632610496292e-06\n",
      "Reason(s) for Halting:\n",
      "  Sum of squares convergence\n"
     ]
    }
   ],
   "source": [
    "#  we have to use scipy.odr which uses orthogonal distance. fit_type=2 indicates OLS\n",
    "\n",
    "from scipy.odr import ODR, Model, RealData\n",
    "\n",
    "def function(beta,X):\n",
    "    A,B,C=beta[0],beta[1],beta[2]\n",
    "    return A-(B/(X+C))\n",
    "\n",
    "model = Model(function)\n",
    "data_real=scipy.odr.Data(X,y)\n",
    "\n",
    "odr = ODR(data_real, model,beta0=[1.,1.,1.])\n",
    "\n",
    "xn = np.linspace(min(X),max(X),100)\n",
    "plt.plot(X,y,'ro')\n",
    "odr.set_job(fit_type=2)\n",
    "output = odr.run()\n",
    "yn = function(output.beta, xn)\n",
    "plt.plot(xn,yn,'g-',label='OLS')\n",
    "plt.legend(loc=0)\n",
    "plt.show()\n",
    "output.pprint()"
   ]
  },
  {
   "cell_type": "code",
   "execution_count": 34,
   "metadata": {},
   "outputs": [
    {
     "name": "stdout",
     "output_type": "stream",
     "text": [
      "Parameter Estimate of A is 13.08\n",
      "Parameter Estimate of B is 2281.88\n",
      "Parameter Estimate of C is 200.78\n"
     ]
    }
   ],
   "source": [
    "print('Parameter Estimate of A is', 13.08)\n",
    "print('Parameter Estimate of B is', 2281.88)\n",
    "print('Parameter Estimate of C is',  200.78)"
   ]
  },
  {
   "cell_type": "markdown",
   "metadata": {},
   "source": [
    "# Part (b) - solution\n",
    "\n",
    "Parameter Estimate of A = 13.08\n",
    "\n",
    "Parameter Estimate of B = 2281.88\n",
    "\n",
    "Parameter Estimate of C = 200.78\n"
   ]
  },
  {
   "cell_type": "markdown",
   "metadata": {},
   "source": [
    "# Part (c)\n",
    "\n",
    "Assuming both pressures and temperature measurements are noisy apply weighted\n",
    "total least squares obtain estimates of parameters A, B, and C. Use the inverse of standard\n",
    "deviation of errors as weights to set up the nonlinear optimization problem."
   ]
  },
  {
   "cell_type": "code",
   "execution_count": 35,
   "metadata": {},
   "outputs": [
    {
     "data": {
      "image/png": "[encoded data removed]",
      "text/plain": [
       "<Figure size 640x480 with 1 Axes>"
      ]
     },
     "metadata": {},
     "output_type": "display_data"
    },
    {
     "name": "stdout",
     "output_type": "stream",
     "text": [
      "Beta: [  13.0707509  2276.71854583  200.50555396]\n",
      "Beta Std Error: [  1.6929195  817.4548417   43.18763611]\n",
      "Beta Covariance: [[4.78207655e+02 2.30780953e+05 1.21721357e+04]\n",
      " [2.30780953e+05 1.11499122e+08 5.88738834e+06]\n",
      " [1.21721357e+04 5.88738834e+06 3.11216614e+05]]\n",
      "Residual Variance: 0.005993163057415993\n",
      "Inverse Condition #: 9.000367963318945e-06\n",
      "Reason(s) for Halting:\n",
      "  Sum of squares convergence\n"
     ]
    }
   ],
   "source": [
    "#  For considering error in independent variable, we have to use scipy.odr which uses orthogonal distance. fit_type=0 indicates TLS\n",
    "\n",
    "from scipy.odr import ODR, Model, RealData\n",
    "\n",
    "def function(beta,X):\n",
    "    A,B,C=beta[0],beta[1],beta[2]\n",
    "    return A-(B/(X+C))\n",
    "\n",
    "model = Model(function)\n",
    "data_real=scipy.odr.Data(X,y)\n",
    "\n",
    "odr = ODR(data_real, model,beta0=[1.,1.,1.])\n",
    "\n",
    "xn = np.linspace(min(X),max(X),100)\n",
    "plt.plot(X,y,'ro')\n",
    "odr.set_job(fit_type=0)\n",
    "output = odr.run()\n",
    "yn = function(output.beta, xn)\n",
    "plt.plot(xn,yn,'g-',label='TLS')\n",
    "plt.legend(loc=0)\n",
    "plt.show()\n",
    "output.pprint()"
   ]
  },
  {
   "cell_type": "code",
   "execution_count": 36,
   "metadata": {},
   "outputs": [
    {
     "name": "stdout",
     "output_type": "stream",
     "text": [
      "Parameter Estimate of A is 13.07\n",
      "Parameter Estimate of B is 2276.72\n",
      "Parameter Estimate of C is 200.5\n"
     ]
    }
   ],
   "source": [
    "print('Parameter Estimate of A is', 13.07)\n",
    "print('Parameter Estimate of B is', 2276.72)\n",
    "print('Parameter Estimate of C is', 200.50)"
   ]
  },
  {
   "cell_type": "markdown",
   "metadata": {},
   "source": [
    "# Part (c) - solution\n",
    "\n",
    "Parameter Estimate of A = 13.07\n",
    "\n",
    "Parameter Estimate of B = 2276.72\n",
    "\n",
    "Parameter Estimate of C = 200.5"
   ]
  },
  {
   "cell_type": "markdown",
   "metadata": {},
   "source": [
    "## Part (d)\n",
    "For the models obtained in (a), (b), and (c) report the maximum error in predicting the\n",
    "saturated pressures using the identified model for the sample data."
   ]
  },
  {
   "cell_type": "code",
   "execution_count": 37,
   "metadata": {},
   "outputs": [],
   "source": [
    "model_A=[4.760732187067934,37.895972103451825]\n",
    "model_B=[  13.08128121, 2281.88178669,  200.7819102 ]\n",
    "model_C=[13.0707509, 2276.71854583, 200.50555396]"
   ]
  },
  {
   "cell_type": "code",
   "execution_count": 38,
   "metadata": {},
   "outputs": [],
   "source": [
    "estimated_y_A=model_A[0]-np.multiply(model_A[1],np.divide(1,data.temp))\n",
    "estimated_y_B=model_B[0]-np.divide(model_B[1],np.add(data_new2.X,model_B[2]))\n",
    "estimated_y_C=model_C[0]-np.divide(model_C[1],np.add(data_new2.X,model_B[2]))"
   ]
  },
  {
   "cell_type": "code",
   "execution_count": 39,
   "metadata": {},
   "outputs": [
    {
     "name": "stderr",
     "output_type": "stream",
     "text": [
      "C:\\Users\\himas\\AppData\\Roaming\\Python\\Python37\\site-packages\\pandas\\core\\arraylike.py:358: RuntimeWarning: invalid value encountered in sqrt\n",
      "  result = getattr(ufunc, method)(*inputs, **kwargs)\n"
     ]
    }
   ],
   "source": [
    "error_A=np.sum(np.sqrt(np.subtract(y,estimated_y_A)))\n",
    "error_B=np.sum(np.sqrt(np.subtract(y,estimated_y_B)))\n",
    "error_C=np.sum(np.sqrt(np.subtract(y,estimated_y_C)))"
   ]
  },
  {
   "cell_type": "code",
   "execution_count": 40,
   "metadata": {},
   "outputs": [
    {
     "data": {
      "text/plain": [
       "(21.299279834631026, 10.206109879235179, 8.192712142960858)"
      ]
     },
     "execution_count": 40,
     "metadata": {},
     "output_type": "execute_result"
    }
   ],
   "source": [
    "error_A,error_B,error_C"
   ]
  },
  {
   "cell_type": "markdown",
   "metadata": {},
   "source": [
    "## Part (d) - Solution\n",
    "\n",
    "Maximum Squared error is produced by model from part (a) and it is equal to 21.299"
   ]
  },
  {
   "cell_type": "markdown",
   "metadata": {},
   "source": [
    "# Question 3\n",
    "\n",
    "A zoologist obtained measurements of the mass (in grams), the snout-vent length\n",
    "(SVL) and hind limb span (HLS) in mm of 25 lizards. The mean and covariance\n",
    "matrix of the data about the mean are given by\n",
    "\n",
    "X.T=[9, 68, 123] and S=[[7,21,34],[21,64,102],[34,102,186]]"
   ]
  },
  {
   "cell_type": "markdown",
   "metadata": {},
   "source": [
    "## Part (a)\n",
    "The largest eigenvalue of the above covariance matrix is 250.4. Determine the\n",
    "normalized eigenvector corresponding to this eigenvalue. Also determine the remaining\n",
    "eigenvalues and corresponding mutually orthogonal eigenvectors"
   ]
  },
  {
   "cell_type": "code",
   "execution_count": 41,
   "metadata": {},
   "outputs": [
    {
     "name": "stdout",
     "output_type": "stream",
     "text": [
      "Eigen values: [2.50400915e+02 8.95711992e-02 6.50951385e+00]\n",
      "Eigen vectors [[ 0.16191025  0.95890336 -0.23300092]\n",
      " [ 0.48767833 -0.28302089 -0.8258747 ]\n",
      " [ 0.85787815 -0.02008808  0.51346037]]\n"
     ]
    }
   ],
   "source": [
    "from numpy.linalg import eig\n",
    "\n",
    "S=[[7,21,34],[21,64,102],[34,102,186]]\n",
    "X_bar=[[9], [68], [123]]\n",
    "W,V=eig(S)   # eigen vectors are already normalized\n",
    "print('Eigen values:', W)\n",
    "print('Eigen vectors', V)"
   ]
  },
  {
   "cell_type": "code",
   "execution_count": 42,
   "metadata": {},
   "outputs": [
    {
     "name": "stdout",
     "output_type": "stream",
     "text": [
      "1.1656667087049515\n",
      "The normalized eigenvector corresponding to this eigenvalue 250.4 is [0.16191025 0.48767833 0.85787815]\n"
     ]
    }
   ],
   "source": [
    "# eigen vector correspondng to 250.4 is p (done by hand calculations)\n",
    "p=[0.188733383465708, 0.5684703912682,1]\n",
    "magnitude_V0=np.linalg.norm(p)\n",
    "print(magnitude_V0)\n",
    "norm_V0=np.divide(p,magnitude_V0)\n",
    "print('The normalized eigenvector corresponding to this eigenvalue 250.4 is',norm_V0)"
   ]
  },
  {
   "cell_type": "code",
   "execution_count": 43,
   "metadata": {},
   "outputs": [
    {
     "name": "stdout",
     "output_type": "stream",
     "text": [
      "The Eigen vector corressponding to 250.40091494719053 is [ 0.16191024591874054 , 0.48767832779557313 , 0.857878150359972 ]\n",
      "The Eigen vector corressponding to 0.08957119921388516 is [ 0.9589033550947192 , -0.2830208909424421 , -0.020088078012520532 ]\n",
      "The Eigen vector corressponding to 6.509513853595643 is [ -0.23300091814115964 , -0.8258747022936713 , 0.5134603667827891 ]\n"
     ]
    }
   ],
   "source": [
    "for i in range(len(W)):\n",
    "    print('The Eigen vector corressponding to',W[i],'is [',V[0][i],',',V[1][i],',',V[2][i],']')"
   ]
  },
  {
   "cell_type": "markdown",
   "metadata": {},
   "source": [
    "# Part (a) - Solutions\n",
    "\n",
    "The normalized eigenvector corresponding to this eigenvalue 250.4 is [0.16191025, 0.48767833, 0.85787815]\n",
    "\n",
    "The Eigen vector corressponding to 250.40091494719053 is [ 0.1619 , 0.4876 , 0.8578]\n",
    "\n",
    "The Eigen vector corressponding to 0.08957119921388516 is [ 0.959 , -0.2830 , -0.020]\n",
    "\n",
    "The Eigen vector corressponding to 6.509513853595643 is [ -0.233 , -0.8258 , 0.5134 ]"
   ]
  },
  {
   "cell_type": "markdown",
   "metadata": {},
   "source": [
    "## Part (b)\n",
    "How many principal components should be retained, if at least 95% of the variance\n",
    "in the data has to be captured?"
   ]
  },
  {
   "cell_type": "code",
   "execution_count": 44,
   "metadata": {},
   "outputs": [
    {
     "name": "stdout",
     "output_type": "stream",
     "text": [
      "Percentage of variance captured by 1  pricical components is 0.9743226262726199\n",
      "Percentage of variance captured by 2  pricical components is 0.9996514739331406\n",
      "Percentage of variance captured by 3  pricical components is 1.0\n"
     ]
    }
   ],
   "source": [
    "eigen_values=[2.50400915e+02, 6.50951385e+00,8.95711992e-02] #in order\n",
    "for i in range(len(W)):\n",
    "    print('Percentage of variance captured by',len(eigen_values[:i+1]),' pricical components is',sum(eigen_values[:i+1])/sum(eigen_values))"
   ]
  },
  {
   "cell_type": "markdown",
   "metadata": {},
   "source": [
    "## part (b) - Solution\n",
    "\n",
    "One Principal component should be retained to capture at least 95% of the variance in the data"
   ]
  },
  {
   "cell_type": "markdown",
   "metadata": {},
   "source": [
    "## Part (c)\n",
    "Assuming that there are two linear relationships among the three variables, determine\n",
    "one possible set of these linear relations."
   ]
  },
  {
   "cell_type": "code",
   "execution_count": 89,
   "metadata": {},
   "outputs": [
    {
     "name": "stdout",
     "output_type": "stream",
     "text": [
      "Linear Relationship 1: 0.959*x1 - 0.283*x2 - 0.02*x3 + 13.073 = 0\n",
      "Linear Relationship 2: -0.233*x1 - 0.8258*x2 + 0.5134*x3 - 4.8968 = 0\n"
     ]
    }
   ],
   "source": [
    "# The two linear relationships are PCs of two smallest eigen values\n",
    "# Linear Relationship: V_T.(X-X_bar)\n",
    "\n",
    "from sympy import *\n",
    "\n",
    "V2=[ 0.959 , -0.2830 , -0.020]\n",
    "V3=[ -0.233 , -0.8258 , 0.5134 ]\n",
    "var('x1,x2,x3')\n",
    "X=[[x1], [x2], [x3]]\n",
    "X_=np.subtract(X,X_bar)\n",
    "lin_rel_1= np.sum(np.dot(V2,X_))\n",
    "print('Linear Relationship 1:',lin_rel_1,'= 0')\n",
    "\n",
    "lin_rel_2= np.sum(np.dot(V3,X_))\n",
    "print('Linear Relationship 2:',lin_rel_2,'= 0')\n"
   ]
  },
  {
   "cell_type": "markdown",
   "metadata": {},
   "source": [
    "# Part (c) - Solution\n",
    "Assuming two linear relationships, The two relationships are\n",
    "\n",
    "0.959*x1 - 0.283*x2 - 0.02*x3 + 13.073 = 0\n",
    "\n",
    " -0.233*x1 - 0.8258*x2 + 0.5134*x3 - 4.8968 = 0"
   ]
  },
  {
   "cell_type": "markdown",
   "metadata": {},
   "source": [
    "## Part (d)\n",
    "Using the PCA model, determine the scores for a female lizard with the following\n",
    "measurements: mass = 10.1 gms, SVL = 73mm and HLS = 135.5mm."
   ]
  },
  {
   "cell_type": "code",
   "execution_count": 93,
   "metadata": {
    "scrolled": true
   },
   "outputs": [
    {
     "name": "stdout",
     "output_type": "stream",
     "text": [
      "score from V1: [8.19179]\n",
      "score from V2: [-0.4901]\n",
      "score from V3: [-1.0482]\n",
      "Therefore scores for female lizard are [8.19179] [-0.4901] [-1.0482]\n"
     ]
    }
   ],
   "source": [
    "# X=[[10.1],[73],[135.5]]\n",
    "X_=[[1.1],[5],[6.5]]    # X-X_bar\n",
    "V1=np.array([ 0.1619 , 0.4876 , 0.8578])\n",
    "V2=[ 0.959 , -0.2830 , -0.020]\n",
    "V3=[ -0.233 , -0.8258 , 0.5134 ]\n",
    "score1=np.dot(V1,X_)\n",
    "print( 'score from V1:',score1)\n",
    "\n",
    "score2=np.dot(V2,X_)\n",
    "print( 'score from V2:',score2)\n",
    "\n",
    "score3=np.dot(V3,X_)\n",
    "print( 'score from V3:',score3)\n",
    "\n",
    "print('Therefore scores for female lizard are', score1,score2,score3)"
   ]
  },
  {
   "cell_type": "markdown",
   "metadata": {},
   "source": [
    "# Part (d) - Solution\n",
    "\n",
    "Therefore scores for female lizard are 8.19179, -0.4901, -1.0482"
   ]
  },
  {
   "cell_type": "markdown",
   "metadata": {},
   "source": [
    "# Part (e)\n",
    "Using the PCA model, estimate the mass of a lizard whose measured SVL is 73mm"
   ]
  },
  {
   "cell_type": "code",
   "execution_count": 94,
   "metadata": {},
   "outputs": [],
   "source": [
    "# in the two linear equations, substitue 73 in x2 and solve\n",
    "\n",
    "# The solution is hand solved and the answer is 10.66 gms"
   ]
  },
  {
   "cell_type": "markdown",
   "metadata": {},
   "source": [
    "# Part (f)\n",
    "Using the PCA model, estimate the mass of a lizard whose measured SVL is 73mm\n",
    "and measured HLS is 135.5 mm."
   ]
  },
  {
   "cell_type": "code",
   "execution_count": 95,
   "metadata": {},
   "outputs": [],
   "source": [
    "# The solution is hand solved! "
   ]
  }
 ],
 "metadata": {
  "kernelspec": {
   "display_name": "Python 3",
   "language": "python",
   "name": "python3"
  },
  "language_info": {
   "codemirror_mode": {
    "name": "ipython",
    "version": 3
   },
   "file_extension": ".py",
   "mimetype": "text/x-python",
   "name": "python",
   "nbconvert_exporter": "python",
   "pygments_lexer": "ipython3",
   "version": "3.7.6"
  }
 },
 "nbformat": 4,
 "nbformat_minor": 4
}
