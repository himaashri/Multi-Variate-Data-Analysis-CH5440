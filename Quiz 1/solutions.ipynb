{
 "cells": [
  {
   "cell_type": "markdown",
   "metadata": {},
   "source": [
    "# CH5440- Test1                       \n",
    "### -Himasree MM17B113"
   ]
  },
  {
   "cell_type": "code",
   "execution_count": 1,
   "metadata": {},
   "outputs": [],
   "source": [
    "# import libraries\n",
    "\n",
    "import pandas as pd\n",
    "import matplotlib.pyplot as plt\n",
    "import numpy as np\n",
    "from math import sqrt"
   ]
  },
  {
   "cell_type": "markdown",
   "metadata": {},
   "source": [
    "# OLS"
   ]
  },
  {
   "cell_type": "code",
   "execution_count": 2,
   "metadata": {},
   "outputs": [],
   "source": [
    "'''\n",
    "Defining Ordinary least squares \n",
    "y=ax+b\n",
    "from formulae, a= Syu/Suu and b=y_mean-a(x_mean)\n",
    "'''\n",
    "def getOLS(data,fea1, fea2):\n",
    "    #x,y\n",
    "    # calculating b\n",
    "\n",
    "    x_mean=np.mean(data[fea1])\n",
    "    y_mean=np.mean(data[fea2])\n",
    "\n",
    "    # calculating numerator and denominator for a\n",
    "\n",
    "    Syu= np.multiply(np.subtract(data[fea2],y_mean),np.subtract(data[fea1],x_mean))\n",
    "    Syu=np.sum(Syu)/len(data)\n",
    "    numerator=Syu\n",
    "\n",
    "    Suu= np.multiply(np.subtract(data[fea1],x_mean),np.subtract(data[fea1],x_mean))\n",
    "    Suu=np.sum(Suu)/len(data)\n",
    "    denominator=Suu\n",
    "    print('Syu:',Syu,'Suu:',Suu)\n",
    "    a_OLS=numerator/denominator\n",
    "\n",
    "    b_OLS=y_mean-a_OLS*x_mean\n",
    "\n",
    "    print('Slope Parameter of OLS:',a_OLS)\n",
    "    print('Offset Parameter of OLS:',b_OLS)\n",
    "#     print(Syu,Suu,x_mean,y_mean)\n",
    "    return a_OLS,b_OLS"
   ]
  },
  {
   "cell_type": "markdown",
   "metadata": {},
   "source": [
    "# TLS"
   ]
  },
  {
   "cell_type": "code",
   "execution_count": 3,
   "metadata": {},
   "outputs": [],
   "source": [
    "'''\n",
    "Defining Total least squares \n",
    "from formulae, a= ((Syy-Suu)+sqrt((Syy-Suu)^2+4*(Syu)^2))/2*Syu and\n",
    "b=y_mean-a(x_mean)\n",
    "'''\n",
    "def getTLS(data,fea1,fea2):\n",
    "    \n",
    "    # calculating b\n",
    "\n",
    "    x_mean=np.mean(data[fea1])\n",
    "    y_mean=np.mean(data[fea2])\n",
    "\n",
    "    # calculating numerator and denominator for a\n",
    "\n",
    "    Syu= np.multiply(np.subtract(data[fea2],y_mean),np.subtract(data[fea1],x_mean))\n",
    "    Syu=np.sum(Syu)/len(data)\n",
    "\n",
    "    Suu= np.multiply(np.subtract(data[fea1],x_mean),np.subtract(data[fea1],x_mean))\n",
    "    Suu=np.sum(Suu)/len(data)\n",
    "\n",
    "    Syy=np.multiply(np.subtract(data[fea2],y_mean),np.subtract(data[fea2],y_mean))\n",
    "    Syy=np.sum(Syy)/len(data)\n",
    "\n",
    "    numerator=(Syy-Suu)+sqrt((Syy-Suu)**2+4*((Syu)**2))\n",
    "    denominator=2*Syu\n",
    "    print('Syu',Syu,'Suu',Suu,'Syy',Syy)\n",
    "    a_TLS=numerator/denominator\n",
    "\n",
    "    b_TLS=y_mean-a_TLS*x_mean\n",
    "\n",
    "    print('Slope Parameter of TLS:',a_TLS)\n",
    "    print('Offset Parameter of TLS:',b_TLS)\n",
    "#     print(Syu,Suu,Syy,x_mean,y_mean)\n",
    "    return a_TLS,b_TLS"
   ]
  },
  {
   "cell_type": "markdown",
   "metadata": {},
   "source": [
    "# Question 1"
   ]
  },
  {
   "cell_type": "code",
   "execution_count": 92,
   "metadata": {},
   "outputs": [],
   "source": [
    "# Data\n",
    "\n",
    "data= pd.read_excel('MM17B113Data.xlsx')"
   ]
  },
  {
   "cell_type": "code",
   "execution_count": 88,
   "metadata": {},
   "outputs": [
    {
     "name": "stdout",
     "output_type": "stream",
     "text": [
      "<class 'pandas.core.frame.DataFrame'>\n",
      "RangeIndex: 29 entries, 0 to 28\n",
      "Data columns (total 2 columns):\n",
      " #   Column          Non-Null Count  Dtype  \n",
      "---  ------          --------------  -----  \n",
      " 0   Life Exp        29 non-null     float64\n",
      " 1   Avg Per Capita  29 non-null     float64\n",
      "dtypes: float64(2)\n",
      "memory usage: 592.0 bytes\n"
     ]
    }
   ],
   "source": [
    "data.info()"
   ]
  },
  {
   "cell_type": "markdown",
   "metadata": {},
   "source": [
    "## Data Visualization"
   ]
  },
  {
   "cell_type": "code",
   "execution_count": 14,
   "metadata": {},
   "outputs": [
    {
     "data": {
      "image/png": "[encoded data removed]",
      "text/plain": [
       "<Figure size 640x480 with 1 Axes>"
      ]
     },
     "metadata": {},
     "output_type": "display_data"
    }
   ],
   "source": [
    "plt.scatter(data['Avg Per Capita'],data['Life Exp'])\n",
    "plt.ylabel('Life Expectency')\n",
    "plt.xlabel('Average Per Capita Expenditure')\n",
    "plt.title('Average Per Capita Expenditure vs Life Expectency')\n",
    "plt.show()"
   ]
  },
  {
   "cell_type": "markdown",
   "metadata": {},
   "source": [
    "#### Linear trend is observed between Average Per Capita Expenditure and Life Expectency"
   ]
  },
  {
   "cell_type": "markdown",
   "metadata": {},
   "source": [
    "# Data Preprocessing\n",
    "### The offset parameter is assumed to be non zero, therefore we need to mean shift the data"
   ]
  },
  {
   "cell_type": "code",
   "execution_count": 84,
   "metadata": {},
   "outputs": [],
   "source": [
    "# mean shifting of data for desired columns\n",
    "\n",
    "def meanshift(data,cols):\n",
    "    new_data=data\n",
    "    for fea in cols:\n",
    "        fea_mean=np.mean(data[fea])\n",
    "        new_data[fea]=np.subtract(data[fea],fea_mean)\n",
    "    return new_data"
   ]
  },
  {
   "cell_type": "code",
   "execution_count": 90,
   "metadata": {},
   "outputs": [],
   "source": [
    "# data_ms=meanshift(data,data.columns)"
   ]
  },
  {
   "cell_type": "markdown",
   "metadata": {},
   "source": [
    "# part (a)"
   ]
  },
  {
   "cell_type": "code",
   "execution_count": 93,
   "metadata": {},
   "outputs": [
    {
     "name": "stdout",
     "output_type": "stream",
     "text": [
      "sample mean of life expectency is 79.08797308662743 years.\n",
      "Average per capita expenditure is 3162.7446965517242 USD.\n"
     ]
    }
   ],
   "source": [
    "# sample mean of life expectency\n",
    "\n",
    "print('sample mean of life expectency is', data['Life Exp'].mean(),'years.')\n",
    "\n",
    "# Average per capita expenditure\n",
    "\n",
    "print('Average per capita expenditure is', data['Avg Per Capita'].mean(),'USD.')\n",
    "\n",
    "# print('------after mean shifting------')\n",
    "\n",
    "# print('sample mean of life expectency is', data_ms['Life Exp'].mean(),'years.')\n",
    "\n",
    "# # Average per capita expenditure\n",
    "\n",
    "# print('Average per capita expenditure is', data_ms['Avg Per Capita'].mean(),'USD.')"
   ]
  },
  {
   "cell_type": "markdown",
   "metadata": {},
   "source": [
    "# part (b)"
   ]
  },
  {
   "cell_type": "code",
   "execution_count": 25,
   "metadata": {},
   "outputs": [
    {
     "name": "stdout",
     "output_type": "stream",
     "text": [
      "Sample Standard deviation of life expectency is 2.5350266528114096 years.\n",
      "Average per capita expenditure is 753.1932859443003 USD.\n"
     ]
    }
   ],
   "source": [
    "# standard deviation\n",
    "\n",
    "print('Sample Standard deviation of life expectency is', data['Life Exp'].std(),'years.')\n",
    "\n",
    "print('Average per capita expenditure is', data['Avg Per Capita'].std(),'USD.')"
   ]
  },
  {
   "cell_type": "markdown",
   "metadata": {},
   "source": [
    "# part (c)"
   ]
  },
  {
   "cell_type": "code",
   "execution_count": 39,
   "metadata": {},
   "outputs": [
    {
     "name": "stdout",
     "output_type": "stream",
     "text": [
      "------Avg Per Capita Expenditure vs Life Expectency-------\n",
      "OLS\n",
      "Syu: 1814.7775364934319 Suu: 547738.0526815183\n",
      "Slope Parameter of OLS: 0.0033132215802954856\n",
      "Offset Parameter of OLS: 68.60909910504716\n"
     ]
    }
   ],
   "source": [
    "print('------Avg Per Capita Expenditure vs Life Expectency-------')\n",
    "# OLS\n",
    "print('OLS')\n",
    "a_OLS,b_OLS=getOLS(data,'Avg Per Capita','Life Exp')"
   ]
  },
  {
   "cell_type": "markdown",
   "metadata": {},
   "source": [
    "# part (d)"
   ]
  },
  {
   "cell_type": "code",
   "execution_count": 40,
   "metadata": {},
   "outputs": [
    {
     "name": "stdout",
     "output_type": "stream",
     "text": [
      "------Avg Per Capita Expenditure vs Life Expectency-------\n",
      "TLS\n",
      "Syu 1814.7775364934319 Suu 547738.0526815183 Syy 6.2047615052757985\n",
      "Slope Parameter of TLS: 0.0033132227416671654\n",
      "Offset Parameter of TLS: 68.60909543192504\n"
     ]
    }
   ],
   "source": [
    "print('------Avg Per Capita Expenditure vs Life Expectency-------')\n",
    "# TLS\n",
    "print('TLS')\n",
    "a_TLS,b_TLS=getTLS(data,'Avg Per Capita','Life Exp')"
   ]
  },
  {
   "cell_type": "markdown",
   "metadata": {},
   "source": [
    "# part (e)"
   ]
  },
  {
   "cell_type": "code",
   "execution_count": 41,
   "metadata": {},
   "outputs": [
    {
     "data": {
      "image/png": "[encoded data removed]",
      "text/plain": [
       "<Figure size 640x480 with 1 Axes>"
      ]
     },
     "metadata": {},
     "output_type": "display_data"
    }
   ],
   "source": [
    "#plotting values \n",
    "\n",
    "x_max = np.max(data['Avg Per Capita']) + 5\n",
    "x_min = np.min(data['Avg Per Capita']) - 5\n",
    "\n",
    "#calculating line values of x and y\n",
    "\n",
    "x = np.linspace(x_min, x_max, 1000)\n",
    "y_OLS = b_OLS + a_OLS * x\n",
    "y_TLS = b_TLS + a_TLS * x\n",
    "\n",
    "#plotting line \n",
    "\n",
    "plt.plot(x, y_OLS, color='y', label='Linear Regression using OLS')\n",
    "plt.plot(x, y_TLS, color='r', label='Linear Regression using TLS')\n",
    "plt.scatter(data['Avg Per Capita'], data['Life Exp'], color='b', label='Data Point')\n",
    "plt.xlabel('Avg Per Capita')\n",
    "plt.ylabel('Life Exp')\n",
    "plt.title('Avg Per Capita vs CO2' )\n",
    "plt.legend()\n",
    "plt.show()"
   ]
  },
  {
   "cell_type": "code",
   "execution_count": 43,
   "metadata": {},
   "outputs": [
    {
     "name": "stdout",
     "output_type": "stream",
     "text": [
      "Required Life expectency: 87.719512195122\n",
      "--------IOLS-------\n",
      "Syu: 1814.7775364934319 Suu: 6.2047615052757985\n",
      "Slope Parameter of OLS: 292.481433001149\n",
      "Offset Parameter of OLS: -19969.019004981375\n"
     ]
    }
   ],
   "source": [
    "# add five years to max value\n",
    "\n",
    "max_val=np.max(data['Life Exp'])\n",
    "print('Required Life expectency:',max_val+5)\n",
    "\n",
    "print('--------IOLS-------')\n",
    "a_IOLS,b_IOLS=getOLS(data,'Life Exp','Avg Per Capita')"
   ]
  },
  {
   "cell_type": "markdown",
   "metadata": {},
   "source": [
    "## Estimation of per capita expenditure"
   ]
  },
  {
   "cell_type": "code",
   "execution_count": 44,
   "metadata": {},
   "outputs": [
    {
     "name": "stdout",
     "output_type": "stream",
     "text": [
      "Incresed per capita expenditure from OLS: 5767.924851066101\n",
      "Incresed per capita expenditure from IOLS: 5687.309624009671\n"
     ]
    }
   ],
   "source": [
    "max_life_Exp=max_val+5\n",
    "max_per_capita_OLS= (max_life_Exp-b_OLS)/a_OLS\n",
    "max_per_capita_IOLS= b_IOLS + a_IOLS * max_life_Exp\n",
    "print('Incresed per capita expenditure from OLS:',max_per_capita_OLS)\n",
    "print('Incresed per capita expenditure from IOLS:',max_per_capita_IOLS)"
   ]
  },
  {
   "cell_type": "code",
   "execution_count": 50,
   "metadata": {},
   "outputs": [
    {
     "data": {
      "text/plain": [
       "4035.9507"
      ]
     },
     "execution_count": 50,
     "metadata": {},
     "output_type": "execute_result"
    }
   ],
   "source": [
    "max(data['Avg Per Capita'])"
   ]
  },
  {
   "cell_type": "code",
   "execution_count": 54,
   "metadata": {},
   "outputs": [
    {
     "name": "stdout",
     "output_type": "stream",
     "text": [
      "additional per capita amount required from OLS: 1731.974151066101\n",
      "additional per capita amount required from IOLS: 1651.3589240096712\n",
      "Average is 1691.6665375378861\n"
     ]
    }
   ],
   "source": [
    "print('additional per capita amount required from OLS:',-max(data['Avg Per Capita'])+max_per_capita_OLS)\n",
    "print('additional per capita amount required from IOLS:',-max(data['Avg Per Capita'])+max_per_capita_IOLS)\n",
    "print('Average is',(-2*max(data['Avg Per Capita'])+max_per_capita_OLS+max_per_capita_IOLS)/2)"
   ]
  },
  {
   "cell_type": "markdown",
   "metadata": {},
   "source": [
    "# part (f)"
   ]
  },
  {
   "cell_type": "code",
   "execution_count": 64,
   "metadata": {},
   "outputs": [
    {
     "data": {
      "text/html": [
       "<div>\n",
       "<style scoped>\n",
       "    .dataframe tbody tr th:only-of-type {\n",
       "        vertical-align: middle;\n",
       "    }\n",
       "\n",
       "    .dataframe tbody tr th {\n",
       "        vertical-align: top;\n",
       "    }\n",
       "\n",
       "    .dataframe thead th {\n",
       "        text-align: right;\n",
       "    }\n",
       "</style>\n",
       "<table border=\"1\" class=\"dataframe\">\n",
       "  <thead>\n",
       "    <tr style=\"text-align: right;\">\n",
       "      <th></th>\n",
       "      <th>Life Exp</th>\n",
       "      <th>Avg Per Capita</th>\n",
       "    </tr>\n",
       "  </thead>\n",
       "  <tbody>\n",
       "    <tr>\n",
       "      <th>0</th>\n",
       "      <td>72.853659</td>\n",
       "      <td>1267.5022</td>\n",
       "    </tr>\n",
       "    <tr>\n",
       "      <th>1</th>\n",
       "      <td>74.051220</td>\n",
       "      <td>1604.7333</td>\n",
       "    </tr>\n",
       "    <tr>\n",
       "      <th>2</th>\n",
       "      <td>75.300000</td>\n",
       "      <td>1923.1369</td>\n",
       "    </tr>\n",
       "    <tr>\n",
       "      <th>3</th>\n",
       "      <td>76.600000</td>\n",
       "      <td>2300.8976</td>\n",
       "    </tr>\n",
       "    <tr>\n",
       "      <th>4</th>\n",
       "      <td>76.848780</td>\n",
       "      <td>2377.8353</td>\n",
       "    </tr>\n",
       "    <tr>\n",
       "      <th>5</th>\n",
       "      <td>77.100000</td>\n",
       "      <td>2469.4117</td>\n",
       "    </tr>\n",
       "    <tr>\n",
       "      <th>6</th>\n",
       "      <td>77.300000</td>\n",
       "      <td>2561.9933</td>\n",
       "    </tr>\n",
       "    <tr>\n",
       "      <th>7</th>\n",
       "      <td>77.648780</td>\n",
       "      <td>2607.9071</td>\n",
       "    </tr>\n",
       "    <tr>\n",
       "      <th>8</th>\n",
       "      <td>77.751220</td>\n",
       "      <td>2965.8229</td>\n",
       "    </tr>\n",
       "    <tr>\n",
       "      <th>9</th>\n",
       "      <td>77.953659</td>\n",
       "      <td>2997.7557</td>\n",
       "    </tr>\n",
       "    <tr>\n",
       "      <th>10</th>\n",
       "      <td>78.304878</td>\n",
       "      <td>3018.3427</td>\n",
       "    </tr>\n",
       "    <tr>\n",
       "      <th>11</th>\n",
       "      <td>78.604878</td>\n",
       "      <td>3082.7392</td>\n",
       "    </tr>\n",
       "    <tr>\n",
       "      <th>12</th>\n",
       "      <td>78.756098</td>\n",
       "      <td>3171.9960</td>\n",
       "    </tr>\n",
       "    <tr>\n",
       "      <th>13</th>\n",
       "      <td>79.056098</td>\n",
       "      <td>3248.9504</td>\n",
       "    </tr>\n",
       "    <tr>\n",
       "      <th>14</th>\n",
       "      <td>79.158537</td>\n",
       "      <td>3331.4384</td>\n",
       "    </tr>\n",
       "    <tr>\n",
       "      <th>15</th>\n",
       "      <td>79.260976</td>\n",
       "      <td>3454.0558</td>\n",
       "    </tr>\n",
       "    <tr>\n",
       "      <th>16</th>\n",
       "      <td>79.114634</td>\n",
       "      <td>3478.5787</td>\n",
       "    </tr>\n",
       "    <tr>\n",
       "      <th>17</th>\n",
       "      <td>80.163415</td>\n",
       "      <td>3578.9042</td>\n",
       "    </tr>\n",
       "    <tr>\n",
       "      <th>18</th>\n",
       "      <td>80.163415</td>\n",
       "      <td>3629.2090</td>\n",
       "    </tr>\n",
       "    <tr>\n",
       "      <th>19</th>\n",
       "      <td>80.812195</td>\n",
       "      <td>3644.7304</td>\n",
       "    </tr>\n",
       "    <tr>\n",
       "      <th>20</th>\n",
       "      <td>81.112195</td>\n",
       "      <td>3680.6859</td>\n",
       "    </tr>\n",
       "    <tr>\n",
       "      <th>21</th>\n",
       "      <td>81.214634</td>\n",
       "      <td>3713.7856</td>\n",
       "    </tr>\n",
       "    <tr>\n",
       "      <th>22</th>\n",
       "      <td>81.414634</td>\n",
       "      <td>3836.7055</td>\n",
       "    </tr>\n",
       "    <tr>\n",
       "      <th>23</th>\n",
       "      <td>81.663415</td>\n",
       "      <td>3859.5252</td>\n",
       "    </tr>\n",
       "    <tr>\n",
       "      <th>24</th>\n",
       "      <td>82.114634</td>\n",
       "      <td>3917.4283</td>\n",
       "    </tr>\n",
       "    <tr>\n",
       "      <th>25</th>\n",
       "      <td>81.968293</td>\n",
       "      <td>3942.3884</td>\n",
       "    </tr>\n",
       "    <tr>\n",
       "      <th>26</th>\n",
       "      <td>82.219512</td>\n",
       "      <td>3989.2368</td>\n",
       "    </tr>\n",
       "    <tr>\n",
       "      <th>27</th>\n",
       "      <td>82.719512</td>\n",
       "      <td>4035.9507</td>\n",
       "    </tr>\n",
       "    <tr>\n",
       "      <th>28</th>\n",
       "      <td>82.321951</td>\n",
       "      <td>4027.9490</td>\n",
       "    </tr>\n",
       "    <tr>\n",
       "      <th>29</th>\n",
       "      <td>70.000000</td>\n",
       "      <td>1000.0000</td>\n",
       "    </tr>\n",
       "  </tbody>\n",
       "</table>\n",
       "</div>"
      ],
      "text/plain": [
       "     Life Exp  Avg Per Capita\n",
       "0   72.853659       1267.5022\n",
       "1   74.051220       1604.7333\n",
       "2   75.300000       1923.1369\n",
       "3   76.600000       2300.8976\n",
       "4   76.848780       2377.8353\n",
       "5   77.100000       2469.4117\n",
       "6   77.300000       2561.9933\n",
       "7   77.648780       2607.9071\n",
       "8   77.751220       2965.8229\n",
       "9   77.953659       2997.7557\n",
       "10  78.304878       3018.3427\n",
       "11  78.604878       3082.7392\n",
       "12  78.756098       3171.9960\n",
       "13  79.056098       3248.9504\n",
       "14  79.158537       3331.4384\n",
       "15  79.260976       3454.0558\n",
       "16  79.114634       3478.5787\n",
       "17  80.163415       3578.9042\n",
       "18  80.163415       3629.2090\n",
       "19  80.812195       3644.7304\n",
       "20  81.112195       3680.6859\n",
       "21  81.214634       3713.7856\n",
       "22  81.414634       3836.7055\n",
       "23  81.663415       3859.5252\n",
       "24  82.114634       3917.4283\n",
       "25  81.968293       3942.3884\n",
       "26  82.219512       3989.2368\n",
       "27  82.719512       4035.9507\n",
       "28  82.321951       4027.9490\n",
       "29  70.000000       1000.0000"
      ]
     },
     "execution_count": 64,
     "metadata": {},
     "output_type": "execute_result"
    }
   ],
   "source": [
    "df = {'Life Exp': 70,'Avg Per Capita':1000}\n",
    "data_new = data.append(df, ignore_index = True)\n",
    "data_new"
   ]
  },
  {
   "cell_type": "code",
   "execution_count": 65,
   "metadata": {},
   "outputs": [
    {
     "name": "stdout",
     "output_type": "stream",
     "text": [
      "------Avg Per Capita Expenditure vs Life Expectency-------\n",
      "OLS\n",
      "Syu: 2387.6116211322505 Suu: 680198.4220937073\n",
      "Slope Parameter of OLS: 0.003510169302926319\n",
      "Offset Parameter of OLS: 67.93632463837439\n"
     ]
    }
   ],
   "source": [
    "print('------Avg Per Capita Expenditure vs Life Expectency-------')\n",
    "# OLS\n",
    "print('OLS')\n",
    "a_OLS,b_OLS=getOLS(data_new,'Avg Per Capita','Life Exp')"
   ]
  },
  {
   "cell_type": "markdown",
   "metadata": {},
   "source": [
    "# part (g)"
   ]
  },
  {
   "cell_type": "code",
   "execution_count": 95,
   "metadata": {},
   "outputs": [
    {
     "name": "stdout",
     "output_type": "stream",
     "text": [
      "------Avg Per Capita Expenditure vs Life Expectency-------\n",
      "OLS\n",
      "Syu: 1814.7775364934319 Suu: 547738.0526815183\n",
      "Slope Parameter of OLS: 0.0033132215802954856\n",
      "Offset Parameter of OLS: 68.60909910504716\n",
      "TLS\n",
      "Syu 1814.7775364934319 Suu 547738.0526815183 Syy 6.2047615052757985\n",
      "Slope Parameter of TLS: 0.0033132227416671654\n",
      "Offset Parameter of TLS: 68.60909543192504\n",
      "upper and lower bounds are: 0.0033132227416671654 0.0033132215802954856\n"
     ]
    }
   ],
   "source": [
    "print('------Avg Per Capita Expenditure vs Life Expectency-------')\n",
    "# OLS\n",
    "print('OLS')\n",
    "a_OLS,b_OLS=getOLS(data,'Avg Per Capita','Life Exp')\n",
    "\n",
    "# print('------Avg Per Capita Expenditure vs Life Expectency-------')\n",
    "# TLS\n",
    "print('TLS')\n",
    "a_TLS,b_TLS=getTLS(data,'Avg Per Capita','Life Exp')\n",
    "\n",
    "print('upper and lower bounds are:',max(a_OLS,a_TLS),min(a_OLS,a_TLS))"
   ]
  },
  {
   "cell_type": "markdown",
   "metadata": {},
   "source": [
    "# part (h)"
   ]
  },
  {
   "cell_type": "code",
   "execution_count": 72,
   "metadata": {},
   "outputs": [],
   "source": [
    "def estimate(x):\n",
    "    return a_OLS*x+b_OLS"
   ]
  },
  {
   "cell_type": "code",
   "execution_count": 75,
   "metadata": {},
   "outputs": [],
   "source": [
    "data['estimate']=data['Avg Per Capita'].apply(estimate)\n",
    "data['error']=np.subtract(data['Life Exp'],data['estimate'])"
   ]
  },
  {
   "cell_type": "code",
   "execution_count": 78,
   "metadata": {},
   "outputs": [
    {
     "name": "stdout",
     "output_type": "stream",
     "text": [
      "Standard deviationof errors is 0.46996092217241814\n"
     ]
    }
   ],
   "source": [
    "print('Standard deviationof errors is',data['error'].std())"
   ]
  },
  {
   "cell_type": "markdown",
   "metadata": {},
   "source": [
    "# part (i)"
   ]
  },
  {
   "cell_type": "code",
   "execution_count": 79,
   "metadata": {},
   "outputs": [
    {
     "name": "stdout",
     "output_type": "stream",
     "text": [
      "95.35122532242947 0.003510169302926319\n",
      "95% CI for a_OLS is [ -205.95513652714473 , 205.9621568657506 ]\n"
     ]
    }
   ],
   "source": [
    "x_mean=np.mean(data['Avg Per Capita'])\n",
    "Suu= np.multiply(np.subtract(data['Avg Per Capita'],x_mean),np.subtract(data['Avg Per Capita'],x_mean))\n",
    "Suu=np.sum(Suu)/len(data)\n",
    "\n",
    "sum_er_OLS=np.sum(np.power(np.subtract(data['Life Exp'],np.add(np.multiply(a_OLS,data['Avg Per Capita']),b_OLS)),2))\n",
    "sigma_ep_OLS=sqrt(sum_er_OLS/(len(data)-2)) # variance of errors\n",
    "sigma_a_OLS=sqrt(sigma_ep_OLS/len(data)*Suu) # variance of a\n",
    "\n",
    "print(sigma_a_OLS,a_OLS)\n",
    "a_OLS_min=a_OLS-2.16*sigma_a_OLS\n",
    "a_OLS_max=a_OLS+2.16*sigma_a_OLS\n",
    "print('95% CI for a_OLS is [',a_OLS_min,',',a_OLS_max,']')"
   ]
  },
  {
   "cell_type": "code",
   "execution_count": null,
   "metadata": {},
   "outputs": [],
   "source": []
  }
 ],
 "metadata": {
  "kernelspec": {
   "display_name": "Python 3",
   "language": "python",
   "name": "python3"
  },
  "language_info": {
   "codemirror_mode": {
    "name": "ipython",
    "version": 3
   },
   "file_extension": ".py",
   "mimetype": "text/x-python",
   "name": "python",
   "nbconvert_exporter": "python",
   "pygments_lexer": "ipython3",
   "version": "3.7.6"
  }
 },
 "nbformat": 4,
 "nbformat_minor": 4
}
